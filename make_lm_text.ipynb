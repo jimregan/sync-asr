{
 "cells": [
  {
   "cell_type": "code",
   "execution_count": 1,
   "metadata": {},
   "outputs": [],
   "source": [
    "INPUT_LIST = \"/Users/joregan/Playing/rdapi_subset\""
   ]
  },
  {
   "cell_type": "code",
   "execution_count": 2,
   "metadata": {},
   "outputs": [],
   "source": [
    "API_FILENAMES = []\n",
    "with open(INPUT_LIST) as ilist:\n",
    "    for line in ilist.readlines():\n",
    "        parts = line.split()\n",
    "        API_FILENAMES.append(parts[0])"
   ]
  },
  {
   "cell_type": "code",
   "execution_count": 3,
   "metadata": {},
   "outputs": [],
   "source": [
    "from pathlib import Path\n",
    "API_PATH = Path(\"/Users/joregan/Playing/rdapi/api_output/\")"
   ]
  },
  {
   "cell_type": "code",
   "execution_count": 4,
   "metadata": {},
   "outputs": [],
   "source": [
    "from sync_asr.riksdag.riksdag_api import RiksdagAPI"
   ]
  },
  {
   "cell_type": "code",
   "execution_count": null,
   "metadata": {},
   "outputs": [],
   "source": [
    "!pip install mosestokenizer"
   ]
  },
  {
   "cell_type": "code",
   "execution_count": 12,
   "metadata": {},
   "outputs": [
    {
     "name": "stderr",
     "output_type": "stream",
     "text": [
      "stdbuf was not found; communication with perl may hang due to stdio buffering.\n"
     ]
    }
   ],
   "source": [
    "from mosestokenizer import MosesSentenceSplitter\n",
    "splitter = MosesSentenceSplitter('sv')"
   ]
  },
  {
   "cell_type": "code",
   "execution_count": 15,
   "metadata": {},
   "outputs": [],
   "source": [
    "sents = []\n",
    "paras = [x['text'] for x in api.get_paragraphs_with_ids()]\n",
    "sents += splitter(paras)"
   ]
  },
  {
   "cell_type": "code",
   "execution_count": 16,
   "metadata": {},
   "outputs": [
    {
     "data": {
      "text/plain": [
       "['Fru talman!',\n",
       " 'Jag vill börja med att yrka bifall till den sverigedemokratiska reservationen i betänkandet.',\n",
       " 'Fru talman!',\n",
       " 'Om jag hade fått en krona varje gång jag under de senaste 15 åren blivit beskylld för att vilja diskriminera människor på basis av deras nationella bakgrund skulle jag ha varit en rik man i dag.',\n",
       " 'Innan jag förstod att beskyllningarna bara var en del i ett billigt retoriskt spel med syfte att misstänkliggöra all form av kritik mot västvärldens mest extrema invandringspolitik gjorde dylika beskyllningar mig uppriktigt förbryllad.',\n",
       " 'Mig veterligen har jag nämligen aldrig någon gång givit mitt stöd till ett regelverk eller en lag som innebär att medborgare i Sverige ska bli bättre eller sämre behandlade enbart på basis av var de är födda.',\n",
       " 'Särskilt förbryllande var att de som anklagade mig, det vill säga företrädarna för de övriga riksdagspartierna, själva gjorde exakt det som de felaktigt beskyllde mig för att vilja göra.',\n",
       " 'Å ena sidan sade man i högtidstalen och i principprogrammen att ingen invånare i Sverige ska bli bättre eller sämre behandlad än någon annan på basis av sitt ursprung.',\n",
       " 'Å andra sidan instiftade man en mängd lagar och regler som gjorde just detta.',\n",
       " 'Genom Salsamodellen, olika resursfördelningsmodeller med mera har man fördelat olika mängd ekonomiska resurser till invånarnas välfärd på basis av var de är födda.',\n",
       " 'Genom särskilda bidrag till så kallade etniska föreningar och annat har man givit personer födda utanför Sverige större möjligheter att ta del av statliga och kommunala kulturbidrag.',\n",
       " 'Genom utformningen av lagen om hets mot folkgrupp har man givit vissa individer bättre skydd mot förföljelse och kränkningar än andra på basis av vilket ursprung de har.',\n",
       " 'Genom instegsjobb, prioriteringslistor hos Arbetsförmedlingen, företräde till anställningsintervjuer hos polis, brandkår, försvarsmakt med mera har man givit vissa arbetslösa, baserat på var de är födda, bättre förutsättningar än andra att få jobb.',\n",
       " 'Helt nyligen bestämdes att personer som inte är födda i Sverige och inte har laglig rätt att vara här ska få billigare mediciner och billigare sjukvård än de som är födda här och de som vistas här lagligt.',\n",
       " 'Och så vidare, och så vidare.',\n",
       " 'Fru talman!',\n",
       " 'I den sverigedemokratiska reservationen i betänkandet lyfter vi fram ytterligare ett exempel.',\n",
       " 'I det här fallet handlar det om regeringens direktiv till Almi om att positivt särbehandla entreprenörer som inte är födda i Sverige.',\n",
       " 'Oberoende av hur de är formulerade kan kvoter baserade på nationell bakgrund inte förenas med principen om att alla individer ska behandlas lika oavsett ursprung.',\n",
       " 'Positiv särbehandling av individer tillhörande en viss grupp innebär per automatik negativ särbehandling av individer tillhörande en annan grupp.',\n",
       " 'Värt att känna till i det här sammanhanget är att utrikes födda redan uppges ägna sig åt företagande i något större utsträckning än inrikes födda och att utrikes födda entreprenörer i dag får stöd av Almi i en omfattning som vida överstiger gruppens andel av befolkningen och gruppens andel av antalet företagare.',\n",
       " 'Förutom att vara moraliskt förkastligt bygger detta direktiv på en felaktig premiss, och det är dessutom ett ineffektivt och kanske till och med direkt kontraproduktivt sätt att försöka lösa det grundproblem som regeringen säger sig vilja lösa med dessa åtgärder.',\n",
       " 'Den felaktiga premissen menar jag består i att grundproblemet, det vill säga den höga arbetslösheten bland utlandsfödda, knappast beror på att vi hittills inte i tillräcklig utsträckning har positivt särbehandlat den gruppen.',\n",
       " 'Det visar inte minst de exempel som jag tidigare räknade upp.',\n",
       " 'Den höga arbetslösheten i den gruppen beror snarare på att vi under alltför lång tid har tagit emot långt fler invandrare än vi lyckats skapa arbetstillfällen till.',\n",
       " 'Det beror på segregationen, på de sociala problemen som den oansvariga invandringspolitiken givit upphov till och på karaktären på den invandring som vi har haft, där förhållandevis många av de nyanlända haft en yrkes- och utbildningsbakgrund som inte är efterfrågad eller direkt tillämpbar på den svenska arbetsmarknaden.',\n",
       " 'I Danmark, där man valt en annan invandringspolitik, förkastat mångkulturalismen och i stort sett inte alls praktiserat positiv särbehandling, har sysselsättningsgapet mellan inrikes och utrikes födda varit lägre än i Sverige.',\n",
       " 'Regeringens försök att lösa problemet genom att ge Almi direktiv om att positivt särbehandla utlandsfödda riskerar, som jag nämnde, att bli kontraproduktivt.',\n",
       " 'Jag är helt övertygad om att många av de utlandsfödda entreprenörerna är kompetenta personer med bra idéer, men det går inte att bortse från att det finns en överhängande risk för att handläggare tummar på kraven på konkurrenskraft och bärighet i affärsidén för att uppfylla de fastställda kvoterna av stöd till utlandsfödda.',\n",
       " 'På något sätt måste de motsägelsefulla ägardirektiven ju uppfyllas.',\n",
       " 'Resultatet av detta riskerar att bli att färre framgångsrika företag bildas än vad som annars skulle ha varit fallet.',\n",
       " 'Det förlorar hela samhället på, även arbetslösa invandrare.',\n",
       " 'Ett ytterligare problem är begreppet utlandsfödda.',\n",
       " 'Det är en alltför yvig definition på en alltför bred grupp och med alltför stora interna variationer för att riktade åtgärder ska kunna bli effektiva.',\n",
       " 'Fru talman!',\n",
       " 'En klok skånsk farbror, jag tror att han var politiskt aktiv i någon form, sade en gång:',\n",
       " '\"Hemmets grundval är gemensamheten och samkänslan.',\n",
       " 'Det goda hemmet känner icke till några privilegierade eller tillbakasatta, inga kelgrisar och inga styvbarn.\"',\n",
       " 'De orden tycker jag kan vara värda att begrunda även i dag, om än i en ny kontext - kanske under sommaruppehållet, som jag hoppas ger tid till eftertanke och blir trevligt för alla.',\n",
       " 'Fru talman!',\n",
       " 'Vi ska debattera arbetsmarknadsutskottets betänkande apropå Riksrevisionens rapport om etablering av utrikes födda, där man konstaterar att det finns brister i utvärderingar och tillämpning som bör åtgärdas.',\n",
       " 'Regeringen har åtgärdat detta och rapporterat tillbaka till riksdagen, något som har passerat både oppositionens och majoritetens nålsöga, och man har kommit fram till att de här åtgärderna är tillräckliga.',\n",
       " 'Det är vad vi diskuterar.',\n",
       " 'Sedan kommer det utläggningar om massor av andra saker som inte har med ämnet att göra.',\n",
       " 'Jag yrkar bifall till förslaget i utskottets betänkande och avslag på samtliga motioner.',\n",
       " 'Fru talman!',\n",
       " 'Till skillnad från Hanif Bali tycker jag att de reservationer som finns i betänkandet är relevanta att ta upp när vi diskuterar betänkandet.',\n",
       " 'Jag har roat mig lite med att botanisera på Moderaternas hemsida.',\n",
       " 'Det är inte någon jättetrevlig sysselsättning, men vissa saker är ändå intressanta att ta del av.',\n",
       " 'Ni har en del guldkorn där.',\n",
       " 'Bland annat kan man läsa när ni presenterar er politik:',\n",
       " '\"Alla former av diskriminering är oacceptabla.\"',\n",
       " '\"Alla ska vara lika inför lagen och ges likvärdiga rättigheter.\"',\n",
       " '\"Jämte frihet och trygghet krävs även rättvisa i alla delar av samhällsbygget.\"',\n",
       " 'Med anledning av detta skulle jag vilja fråga Hanif Bali:',\n",
       " 'Om ni nu tycker att diskriminering är oacceptabelt, varför stiftar ni då lagar som diskriminerar svenskfödda?',\n",
       " 'Om ni nu förespråkar likhet inför lagen, varför skriver ni då in i era lagar att personer med olika bakgrund ska behandlas olika?',\n",
       " 'Är detta verkligen ett sätt att värna rättvisa i alla delar av samhällsbygget?',\n",
       " 'Fru talman!',\n",
       " 'Det är ingen hemlighet att vi i Sverige hjälper dem som har det lite extra tufft.',\n",
       " 'Det är till exempel ingen hemlighet att vi har lönebidrag för folk med funktionshinder och andra former av det Mattias Karlsson kallar för positiv särbehandling.',\n",
       " 'När någon med funktionshinder får rätt till ett jobb, får det lättare att bli kallad till intervju eller får extra mycket pengar från staten känner jag inte att jag skulle vara diskriminerad.',\n",
       " 'Jag vet inte om Mattias Karlsson känner så, men det vore väldigt märkligt.',\n",
       " 'Detsamma gäller här.',\n",
       " 'Det finns grupper som behöver extra stöd och extra hjälp.',\n",
       " 'Till exempel erbjuds sfi till utrikesfödda och invandrare, men inte till Mattias Karlsson.',\n",
       " 'Det kan han tycka är en jättestor orättvisa, och det kan vi såklart ha en diskussion om här.',\n",
       " 'Men det är inget jättemärkligt att ha det så.',\n",
       " 'Däremot är det väldigt intressant att titta på effekterna.',\n",
       " 'Den positiva särbehandlingen påstås skapa enorma orättvisor.',\n",
       " 'Men då får man nästan för sig att arbetslösheten ute i samhället nästan bara drabbar inrikesfödda, eftersom regeringen har varit så dum mot dem genom lagstiftningen.',\n",
       " 'Men så ser det inte ut.',\n",
       " 'Andelen inrikesfödda bland de arbetslösa minskar kraftigt.',\n",
       " 'Mattias Karlssons parti har oftast beskyllt invandrare för att komma hit och ta alla jobb.',\n",
       " 'Nu verkar det snarare vara så att de kommer hit och tar arbetslösheten från de inrikesfödda.',\n",
       " 'Den verklighet du målar upp i ditt huvud skiljer sig från den verklighet som finns utanför kammaren, Mattias Karlsson.',\n",
       " 'Det skulle vara bra om ni höll er till sanningen.',\n",
       " 'Fru talman!',\n",
       " 'Till att börja med tycker jag att det är viktigt att skilja på diskriminering på basis av faktorer som man inte kan göra någonting åt och särskilda stöd till grupper som befinner sig på olika platser i livet.',\n",
       " 'Vi kan alla drabbas av funktionshinder.',\n",
       " 'Vi har alla varit unga, och vi kommer alla att bli gamla.',\n",
       " 'Att rikta särskilda stödåtgärder till den typen av grupper är en sak.',\n",
       " 'Att stifta lagar där man skiljer på människor på basis av var de är födda, vilket man inte kan göra någonting åt, är en väsentlig principiell skillnad.',\n",
       " 'Jag vet inte om jag uppfattade dig rätt, Hanif Bali, men som jag tolkade det du sade menade du att så länge det inte ger några negativa effekter på samhällsekonomin är det egentligen inga problem att diskriminera utifrån bakgrund och ursprungsland.',\n",
       " 'Jag är hemskt ledsen, men jag håller inte med om den utgångspunkt som Moderaterna och hela regeringen tycks ha i denna fråga.',\n",
       " 'Ursäkta plumpheten, fru talman, men det resonemang som man för från Moderaterna här och som utgår från att man ska diskriminera för att motverka diskriminering är i mitt huvud lika ologiskt som att ha sex för att bevara oskulden.',\n",
       " 'Fru talman!',\n",
       " 'Det handlar om olika former av diskriminering.',\n",
       " 'Det är dåligt att diskriminera på grund av saker man inte kan göra någonting åt, medan det är okej att diskriminera på grund av faktorer man kan göra någonting åt, menar Mattias Karlsson.',\n",
       " 'Jag kan inte göra jättemycket åt att jag är utrikesfödd.',\n",
       " 'Det är en faktor jag har haft väldigt lite kontroll över i mitt liv.',\n",
       " 'Att jag är i Sverige är också en faktor jag har haft väldigt lite kontroll över.',\n",
       " 'Återigen kommer de här märkliga resonemangen.',\n",
       " 'Mattias Karlsson ville ha ett exempel på när Sverigedemokraterna någonsin velat göra skillnad på folk och folk lagstiftningsmässigt.',\n",
       " 'Låt mig ta ett sådant exempel ur Sverigedemokraternas eget program!',\n",
       " 'Det gäller anhöriginvandring.',\n",
       " 'Ni har ett resonemang om att anhöriginvandring till Sverige endast ska kunna ske om den sammanlagda anknytningsgraden, som det heter, till Sverige är minst 50 procent.',\n",
       " 'Om min fru skulle vara thailändska och jag helsvensk, som SD uttrycker det, vore anknytningsgraden 50 procent.',\n",
       " 'Men nu är jag i alla fall till någon procent iranier.',\n",
       " 'Ville jag ta hit en thailändsk fru skulle det inte gå, för då vore vi inte svenska till minst 50 procent.',\n",
       " 'Sådana resonemang innebär att göra skillnad på folk och folk beroende på deras bakgrund.',\n",
       " 'Av någon konstig anledning lyckas alltid Mattias Karlsson och SD göra skillnad på folk och folk.',\n",
       " 'Deras resonemang handlar om att de som är annorlunda inte ska få komma hit.',\n",
       " 'Våra resonemang handlar om att se till att arbetsmarknaden fungerar bättre och är mer inkluderande och att fler kommer i arbete.',\n",
       " 'Med den reservationen tycker jag att vi kan konstatera att vi båda är lika goda hycklare i den här frågan, medan min politik har lite mer positiva bieffekter än Mattias Karlssons.']"
      ]
     },
     "execution_count": 16,
     "metadata": {},
     "output_type": "execute_result"
    }
   ],
   "source": [
    "sents"
   ]
  },
  {
   "cell_type": "code",
   "execution_count": null,
   "metadata": {},
   "outputs": [],
   "source": [
    "for filename in API_FILENAMES:\n",
    "    FILE_PATH = API_PATH / filename\n",
    "    api = RiksdagAPI(filename=str(FILE_PATH))\n",
    "    paras = [x['text'] for x in api.get_paragraphs_with_ids()]\n",
    "    sents = splitter(paras)\n",
    "    \n",
    "    "
   ]
  }
 ],
 "metadata": {
  "kernelspec": {
   "display_name": "syncasr",
   "language": "python",
   "name": "python3"
  },
  "language_info": {
   "codemirror_mode": {
    "name": "ipython",
    "version": 3
   },
   "file_extension": ".py",
   "mimetype": "text/x-python",
   "name": "python",
   "nbconvert_exporter": "python",
   "pygments_lexer": "ipython3",
   "version": "3.10.4"
  },
  "orig_nbformat": 4,
  "vscode": {
   "interpreter": {
    "hash": "b14868e5dbb3a6a367a613f4eebdddedfb583b8ff3af550c4fc194fb658d341b"
   }
  }
 },
 "nbformat": 4,
 "nbformat_minor": 2
}
