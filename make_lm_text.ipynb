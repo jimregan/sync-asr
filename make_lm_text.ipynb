{
 "cells": [
  {
   "cell_type": "code",
   "execution_count": 1,
   "metadata": {},
   "outputs": [],
   "source": [
    "INPUT_LIST = \"/Users/joregan/Playing/rdapi_subset\""
   ]
  },
  {
   "cell_type": "code",
   "execution_count": 2,
   "metadata": {},
   "outputs": [],
   "source": [
    "API_FILENAMES = []\n",
    "with open(INPUT_LIST) as ilist:\n",
    "    for line in ilist.readlines():\n",
    "        parts = line.split()\n",
    "        API_FILENAMES.append(parts[0])"
   ]
  },
  {
   "cell_type": "code",
   "execution_count": 3,
   "metadata": {},
   "outputs": [],
   "source": [
    "from pathlib import Path\n",
    "API_PATH = Path(\"/Users/joregan/Playing/rdapi/api_output/\")"
   ]
  },
  {
   "cell_type": "code",
   "execution_count": 4,
   "metadata": {},
   "outputs": [],
   "source": [
    "from sync_asr.riksdag.riksdag_api import RiksdagAPI"
   ]
  },
  {
   "cell_type": "code",
   "execution_count": 7,
   "metadata": {},
   "outputs": [],
   "source": [
    "api = RiksdagAPI(filename=str(API_PATH / API_FILENAMES[0]))"
   ]
  },
  {
   "cell_type": "code",
   "execution_count": null,
   "metadata": {},
   "outputs": [],
   "source": [
    "api.get_paragraphs_with_ids()"
   ]
  },
  {
   "cell_type": "code",
   "execution_count": null,
   "metadata": {},
   "outputs": [],
   "source": [
    "for filename in API_FILENAMES:\n",
    "    FILE_PATH = API_PATH / filename\n",
    "    api = RiksdagAPI(filename=str(FILE_PATH))\n",
    "    print(api)\n",
    "    "
   ]
  }
 ],
 "metadata": {
  "kernelspec": {
   "display_name": "syncasr",
   "language": "python",
   "name": "python3"
  },
  "language_info": {
   "codemirror_mode": {
    "name": "ipython",
    "version": 3
   },
   "file_extension": ".py",
   "mimetype": "text/x-python",
   "name": "python",
   "nbconvert_exporter": "python",
   "pygments_lexer": "ipython3",
   "version": "3.10.4"
  },
  "orig_nbformat": 4,
  "vscode": {
   "interpreter": {
    "hash": "b14868e5dbb3a6a367a613f4eebdddedfb583b8ff3af550c4fc194fb658d341b"
   }
  }
 },
 "nbformat": 4,
 "nbformat_minor": 2
}
