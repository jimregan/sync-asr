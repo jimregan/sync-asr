{
 "cells": [
  {
   "cell_type": "code",
   "execution_count": 1,
   "metadata": {},
   "outputs": [],
   "source": [
    "from sync_asr.riksdag.riksdag_api import RiksdagAPI\n",
    "from pathlib import Path"
   ]
  },
  {
   "cell_type": "code",
   "execution_count": 2,
   "metadata": {},
   "outputs": [],
   "source": [
    "speakers = {}\n",
    "for file in Path(\"/Users/joregan/Playing/rdapi/api_output\").glob(\"*\"):\n",
    "    rdapi = RiksdagAPI(filename=str(file))\n",
    "    for se in rdapi.get_speaker_elements():\n",
    "        if se.speaker_name in speakers:\n",
    "            speakers[se.speaker_name] += se.duration\n",
    "        else:\n",
    "            speakers[se.speaker_name] = se.duration"
   ]
  },
  {
   "cell_type": "code",
   "execution_count": 3,
   "metadata": {},
   "outputs": [],
   "source": [
    "from sync_asr.riksdag.get_speaker_table import get_people"
   ]
  },
  {
   "cell_type": "code",
   "execution_count": 4,
   "metadata": {},
   "outputs": [],
   "source": [
    "people = get_people()"
   ]
  },
  {
   "cell_type": "code",
   "execution_count": 10,
   "metadata": {},
   "outputs": [],
   "source": [
    "from pathlib import Path\n",
    "wd_path = Path(\"../data/wikidata/\")\n",
    "tsv_path = wd_path / \"person_riksdagid_placeofbirth_pobLabel.tsv\"\n",
    "wikidata = {}\n",
    "with open(tsv_path) as tsvfile:\n",
    "    for line in tsvfile.readlines():\n",
    "        if not line.startswith(\"http\"):\n",
    "            continue\n",
    "        parts = line.split(\"\\t\")\n",
    "        rdid = parts[1].strip()\n",
    "        pob = parts[2].strip()\n",
    "        pobname = parts[3].strip()\n",
    "        pers = parts[0].strip()\n",
    "        wikidata[rdid] = {\n",
    "            \"url\": pers,\n",
    "            \"placename\": pobname,\n",
    "            \"placeofbirth_url\": pob\n",
    "        }"
   ]
  },
  {
   "cell_type": "code",
   "execution_count": 11,
   "metadata": {},
   "outputs": [
    {
     "data": {
      "text/plain": [
       "{'url': 'http://www.wikidata.org/entity/Q520223',\n",
       " 'placename': 'Täby',\n",
       " 'placeofbirth_url': 'http://www.wikidata.org/entity/Q54337'}"
      ]
     },
     "execution_count": 11,
     "metadata": {},
     "output_type": "execute_result"
    }
   ],
   "source": [
    "wikidata[\"0388849444310\"]"
   ]
  },
  {
   "cell_type": "code",
   "execution_count": 12,
   "metadata": {},
   "outputs": [],
   "source": [
    "OUTBUF = []\n",
    "OUTBUF.append(\"Name\\tGender\\tParty\\tTerms\\tTotal (sec)\\tRiksdag ID\\tWikidata\\tPlace of birth\\tPOB Wikidata\")\n",
    "for person in people.values():\n",
    "    name = person.get_name()\n",
    "    gender = person.gender\n",
    "    party = person.get_party()\n",
    "    by = person.birth_year\n",
    "    terms = person.get_merged_terms()\n",
    "    rd_id = person.id\n",
    "    if rd_id in wikidata:\n",
    "        url = wikidata[rd_id][\"url\"]\n",
    "        pn = wikidata[rd_id][\"placename\"]\n",
    "        pnu = wikidata[rd_id][\"placeofbirth_url\"]\n",
    "        extra = f\"{url}\\t{pn}\\t{pnu}\"\n",
    "    else:\n",
    "        extra = \"-\\t-\\t-\"\n",
    "\n",
    "    if name in speakers:\n",
    "        OUTBUF.append(f\"{name}\\t{gender}\\t{party}\\t{terms}\\t{speakers[name] / 1000}\\t{rd_id}\\t{extra}\")\n"
   ]
  },
  {
   "cell_type": "code",
   "execution_count": 13,
   "metadata": {},
   "outputs": [],
   "source": [
    "with open(\"/tmp/persons.tsv\", \"w\") as output:\n",
    "    for line in OUTBUF:\n",
    "        output.write(line + \"\\n\")"
   ]
  }
 ],
 "metadata": {
  "kernelspec": {
   "display_name": "Python 3",
   "language": "python",
   "name": "python3"
  },
  "language_info": {
   "codemirror_mode": {
    "name": "ipython",
    "version": 3
   },
   "file_extension": ".py",
   "mimetype": "text/x-python",
   "name": "python",
   "nbconvert_exporter": "python",
   "pygments_lexer": "ipython3",
   "version": "3.9.16"
  },
  "orig_nbformat": 4,
  "vscode": {
   "interpreter": {
    "hash": "a665b5d41d17b532ea9890333293a1b812fa0b73c9c25c950b3cedf1bebd0438"
   }
  }
 },
 "nbformat": 4,
 "nbformat_minor": 2
}
