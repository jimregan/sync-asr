{
 "cells": [
  {
   "cell_type": "code",
   "execution_count": 1,
   "metadata": {},
   "outputs": [],
   "source": [
    "_ALPHABET = {\n",
    "    \"A\": [\"a\"],\n",
    "    \"B\": [\"be\", \"bé\"],\n",
    "    \"C\": [\"ce\", \"se\", \"sé\", \"cé\", \"si\", \"ci\"],\n",
    "    \"D\": [\"de\", \"dé\", \"di\"],\n",
    "    \"E\": [\"e\", \"é\"],\n",
    "    \"F\": [\"eff\", \"ef\"],\n",
    "    \"G\": [\"ge\", \"gé\", \"gi\"],\n",
    "    \"H\": [\"hå\", \"ho\"],\n",
    "    \"I\": [\"i\"],\n",
    "    \"J\": [\"ji\", \"gi\"],\n",
    "    \"K\": [\"kå\", \"ko\"],\n",
    "    \"L\": [\"ell\", \"el\"],\n",
    "    \"M\": [\"emm\", \"em\"],\n",
    "    \"N\": [\"enn\", \"en\"],\n",
    "    \"O\": [\"o\"],\n",
    "    \"P\": [\"pe\", \"pé\", \"pi\"],\n",
    "    \"Q\": [\"qu\"],\n",
    "    \"R\": [\"err\", \"er\", \"är\", \"ärr\"],\n",
    "    \"S\": [\"ess\", \"es\"],\n",
    "    \"T\": [\"te\", \"té\", \"ti\"],\n",
    "    \"U\": [\"u\"],\n",
    "    \"V\": [\"ve\", \"vé\", \"vi\"],\n",
    "    \"W\": [\"dubbelve\"],\n",
    "    \"X\": [\"ex\", \"ecz\", \"ecs\", \"eks\"],\n",
    "    \"Y\": [\"y\"],\n",
    "    \"Z\": [\"zäta\", \"säta\", \"seta\", \"zeta\"],\n",
    "    \"Å\": [\"å\"],\n",
    "    \"Ä\": [\"ä\"],\n",
    "    \"Ö\": [\"ö\"]\n",
    "}\n",
    "\n",
    "DIGITS = {\n",
    "    \"1\": [\"ett\"],\n",
    "    \"2\": [\"två\"],\n",
    "    \"3\": [\"tre\"],\n",
    "    \"4\": [\"fyra\"],\n",
    "    \"5\": [\"fem\"],\n",
    "    \"6\": [\"sex\"],\n",
    "    \"7\": [\"sju\"],\n",
    "    \"8\": [\"åtta\"],\n",
    "    \"9\": [\"nio\", \"ni\"]\n",
    "}"
   ]
  },
  {
   "cell_type": "code",
   "execution_count": 2,
   "metadata": {},
   "outputs": [],
   "source": [
    "ALPHABET = {k: sorted(v, key=len, reverse=True) for k,v in _ALPHABET.items()}"
   ]
  },
  {
   "cell_type": "markdown",
   "metadata": {},
   "source": [
    "```\n",
    "2442206120015761721 1 487.78 0.32 essefu 1.0 <eps> ins\n",
    "2442206120015761721 1 488.26 0.16 fem 1.0 SfU5 sub\n",
    "```\n",
    "\n",
    "```\n",
    "2442206120015761721 1 490.6 0.519 tjugohundrafjorton 1.0 <eps> ins\n",
    "2442206120015761721 1 491.2 0.379 femton 1.0 <eps> ins\n",
    "2442206120015761721 1 491.74 0.779 etthundratjugofyra 1.0 2014/15:124 sub\n",
    "```"
   ]
  },
  {
   "cell_type": "code",
   "execution_count": 3,
   "metadata": {},
   "outputs": [],
   "source": [
    "ALNUM = {**ALPHABET, **DIGITS}\n",
    "ALNUM_REGEX = {k: f\"({'|'.join(v)})\" for k,v in ALNUM.items()}"
   ]
  },
  {
   "cell_type": "code",
   "execution_count": 4,
   "metadata": {},
   "outputs": [],
   "source": [
    "from difflib import SequenceMatcher\n",
    "\n",
    "ACCEPT = [\n",
    "    (\"e\", \"ə\")\n",
    "]\n",
    "\n",
    "a = \"kamaren\"\n",
    "b = \"kamarən\"\n",
    "\n",
    "ok = False\n",
    "\n",
    "s = SequenceMatcher(None, a, b)\n",
    "for tag, i1, i2, j1, j2 in s.get_opcodes():\n",
    "    if tag == \"replace\":\n",
    "        if (a[i1:i2], b[j1:j2]) in ACCEPT:\n",
    "            ok = True\n",
    "        else:\n",
    "            ok = False\n",
    "    elif tag == \"equal\":\n",
    "        ok = True"
   ]
  },
  {
   "cell_type": "code",
   "execution_count": 5,
   "metadata": {},
   "outputs": [],
   "source": [
    "from phonemizer import phonemize"
   ]
  },
  {
   "cell_type": "code",
   "execution_count": 6,
   "metadata": {},
   "outputs": [
    {
     "data": {
      "text/plain": [
       "'slʉt '"
      ]
     },
     "execution_count": 6,
     "metadata": {},
     "output_type": "execute_result"
    }
   ],
   "source": [
    "phonemize(\"slut\", language='sv')"
   ]
  },
  {
   "cell_type": "code",
   "execution_count": 7,
   "metadata": {},
   "outputs": [],
   "source": [
    "from sync_asr.utils.nst_lexicon import get_nst_lexicon"
   ]
  },
  {
   "cell_type": "code",
   "execution_count": 9,
   "metadata": {},
   "outputs": [],
   "source": [
    "lexicon = get_nst_lexicon()"
   ]
  },
  {
   "cell_type": "code",
   "execution_count": 39,
   "metadata": {},
   "outputs": [],
   "source": [
    "dictionary = {}\n",
    "for entry in lexicon:\n",
    "    if 'garbage' in entry and entry['garbage'] == 'GARB':\n",
    "        continue\n",
    "    else:\n",
    "        word = entry['orthography']\n",
    "        word = word.replace(\"_\", \" \")\n",
    "        if not word in dictionary:\n",
    "            dictionary[word] = set()\n",
    "        for translit in entry['transliterations']:\n",
    "            dictionary[word].add(translit['ipa'].replace(\".\", \"\").replace(\"¤\", \"\").replace(\"_\", \" \").replace(\"\\u0361\", \"\"))"
   ]
  },
  {
   "cell_type": "code",
   "execution_count": 33,
   "metadata": {},
   "outputs": [],
   "source": [
    "CONSONANTS = \"bdfhjklmnprstvŋɕɖɡɧɭɳʂʈ\"\n",
    "VOWELS = \"aeiouyøɪɑɔɛɵʉʊʏ\"\n",
    "ACCENTS = \"²ˌˈ\""
   ]
  },
  {
   "cell_type": "code",
   "execution_count": 106,
   "metadata": {},
   "outputs": [
    {
     "name": "stdout",
     "output_type": "stream",
     "text": [
      "{'²ɪnte'}\n",
      "ɪntɛ \n"
     ]
    }
   ],
   "source": [
    "print(dictionary[\"inte\"])\n",
    "print(phonemize(\"inte\", language='sv'))"
   ]
  },
  {
   "cell_type": "code",
   "execution_count": 29,
   "metadata": {},
   "outputs": [],
   "source": [
    "characters = set()\n",
    "for entry in dictionary:\n",
    "    for pron in dictionary[entry]:\n",
    "        for char in pron:\n",
    "            characters.add(char)"
   ]
  },
  {
   "cell_type": "code",
   "execution_count": 34,
   "metadata": {},
   "outputs": [],
   "source": [
    "cons = set()\n",
    "VS = VOWELS + ACCENTS + \"_\"\n",
    "for entry in dictionary:\n",
    "    for pron in dictionary[entry]:\n",
    "        for char in pron:\n",
    "            if char not in VS:\n",
    "                cons.add(char)"
   ]
  },
  {
   "cell_type": "code",
   "execution_count": 41,
   "metadata": {},
   "outputs": [],
   "source": [
    "def shift_accent(ipa):\n",
    "    accent = \"\"\n",
    "    output = \"\"\n",
    "    for character in ipa:\n",
    "        if character in ACCENTS:\n",
    "            accent = character\n",
    "        elif character in CONSONANTS:\n",
    "            output += character\n",
    "        elif character in VOWELS:\n",
    "            if accent != \"\":\n",
    "                output += accent\n",
    "                accent = \"\"\n",
    "            output += character\n",
    "        else:\n",
    "            output += character\n",
    "    return output"
   ]
  },
  {
   "cell_type": "code",
   "execution_count": 42,
   "metadata": {},
   "outputs": [
    {
     "data": {
      "text/plain": [
       "'kr²atʊʂ'"
      ]
     },
     "execution_count": 42,
     "metadata": {},
     "output_type": "execute_result"
    }
   ],
   "source": [
    "shift_accent(\"²kratʊʂ\")"
   ]
  }
 ],
 "metadata": {
  "kernelspec": {
   "display_name": "syncasr_stats",
   "language": "python",
   "name": "python3"
  },
  "language_info": {
   "codemirror_mode": {
    "name": "ipython",
    "version": 3
   },
   "file_extension": ".py",
   "mimetype": "text/x-python",
   "name": "python",
   "nbconvert_exporter": "python",
   "pygments_lexer": "ipython3",
   "version": "3.11.7"
  }
 },
 "nbformat": 4,
 "nbformat_minor": 2
}
