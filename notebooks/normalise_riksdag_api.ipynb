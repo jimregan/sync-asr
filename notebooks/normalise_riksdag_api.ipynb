{
 "cells": [
  {
   "cell_type": "code",
   "execution_count": 1,
   "metadata": {},
   "outputs": [],
   "source": [
    "from nemo_text_processing.text_normalization.normalize import Normalizer"
   ]
  },
  {
   "cell_type": "code",
   "execution_count": 2,
   "metadata": {},
   "outputs": [
    {
     "name": "stdout",
     "output_type": "stream",
     "text": [
      "Created /tmp/nemo_cache_sv/sv_tn_True_deterministic_cased__tokenize.far\n",
      "Created /tmp/nemo_cache_sv/sv_tn_True_deterministic_verbalizer.far\n"
     ]
    }
   ],
   "source": [
    "normaliser_sv = Normalizer(input_case='cased', lang='sv', cache_dir=\"/tmp/nemo_cache_sv\", overwrite_cache=False, post_process=True)"
   ]
  },
  {
   "cell_type": "code",
   "execution_count": 3,
   "metadata": {},
   "outputs": [],
   "source": [
    "from pathlib import Path\n",
    "APIFILES = Path(\"/home/joregan/rdapi_subset_files\")\n",
    "OUTFILES = Path(\"/home/joregan/rdapi_subset_norm\")"
   ]
  },
  {
   "cell_type": "code",
   "execution_count": 4,
   "metadata": {},
   "outputs": [],
   "source": [
    "import json"
   ]
  },
  {
   "cell_type": "code",
   "execution_count": 5,
   "metadata": {},
   "outputs": [],
   "source": [
    "with open(str(APIFILES / \"H101CU11\")) as apifile:\n",
    "    rdfile = json.load(apifile)"
   ]
  },
  {
   "cell_type": "code",
   "execution_count": null,
   "metadata": {},
   "outputs": [],
   "source": [
    "for viddata in rdfile['videodata']:\n",
    "    for speaker in viddata['speakers']:\n",
    "        print(speaker['anftext'])"
   ]
  }
 ],
 "metadata": {
  "kernelspec": {
   "display_name": "nemo_tn",
   "language": "python",
   "name": "python3"
  },
  "language_info": {
   "codemirror_mode": {
    "name": "ipython",
    "version": 3
   },
   "file_extension": ".py",
   "mimetype": "text/x-python",
   "name": "python",
   "nbconvert_exporter": "python",
   "pygments_lexer": "ipython3",
   "version": "3.8.0"
  },
  "orig_nbformat": 4,
  "vscode": {
   "interpreter": {
    "hash": "96c035648930bea69d9b07400b9579b46f611ac79813b1ca90c1f721b4f39cb5"
   }
  }
 },
 "nbformat": 4,
 "nbformat_minor": 2
}
