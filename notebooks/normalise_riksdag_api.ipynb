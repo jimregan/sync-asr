{
 "cells": [
  {
   "cell_type": "code",
   "execution_count": 1,
   "metadata": {},
   "outputs": [],
   "source": [
    "from nemo_text_processing.text_normalization.normalize import Normalizer"
   ]
  },
  {
   "cell_type": "code",
   "execution_count": 2,
   "metadata": {},
   "outputs": [],
   "source": [
    "normaliser_sv = Normalizer(input_case='cased', lang='sv', cache_dir=\"/tmp/nemo_cache_sv\", overwrite_cache=False, post_process=True)"
   ]
  },
  {
   "cell_type": "code",
   "execution_count": 3,
   "metadata": {},
   "outputs": [],
   "source": [
    "from pathlib import Path\n",
    "APIFILES = Path(\"/home/joregan/rdapi_subset_files\")\n",
    "OUTFILES = Path(\"/home/joregan/rdapi_subset_norm\")"
   ]
  },
  {
   "cell_type": "code",
   "execution_count": 4,
   "metadata": {},
   "outputs": [],
   "source": [
    "import json"
   ]
  },
  {
   "cell_type": "code",
   "execution_count": 5,
   "metadata": {},
   "outputs": [
    {
     "name": "stdout",
     "output_type": "stream",
     "text": [
      "Requirement already satisfied: beautifulsoup4 in /home/joregan/miniconda3/envs/nemo_tn/lib/python3.8/site-packages (4.11.2)\n",
      "Requirement already satisfied: soupsieve>1.2 in /home/joregan/miniconda3/envs/nemo_tn/lib/python3.8/site-packages (from beautifulsoup4) (2.4)\n"
     ]
    }
   ],
   "source": [
    "!pip install beautifulsoup4"
   ]
  },
  {
   "cell_type": "code",
   "execution_count": 6,
   "metadata": {},
   "outputs": [],
   "source": [
    "from bs4 import BeautifulSoup"
   ]
  },
  {
   "cell_type": "code",
   "execution_count": 7,
   "metadata": {},
   "outputs": [],
   "source": [
    "def get_speaker_paragraphs(html):\n",
    "    if \"<p>\" in html or \"<P>\" in html:\n",
    "        soup = BeautifulSoup(html, 'html.parser')\n",
    "        paragraphs = []\n",
    "        for para in soup.find_all(\"p\"):\n",
    "            if para.text.strip() != \"\" and not para.text.strip().startswith(\"STYLEREF Kantrubrik\"):\n",
    "                paragraphs.append(para.text.strip())\n",
    "        return paragraphs\n",
    "    else:\n",
    "        text = html.strip().replace(\"\\r\\n\", \"\\n\").replace(\"\\r\", \"\\n\")\n",
    "        return text.split(\"\\n\")"
   ]
  },
  {
   "cell_type": "code",
   "execution_count": null,
   "metadata": {},
   "outputs": [],
   "source": [
    "for jsonfile in APIFILES.glob(\"*\"):\n",
    "    with open(str(jsonfile)) as apifile:\n",
    "        print(\"Processing\", str(jsonfile))\n",
    "        rdfile = json.load(apifile)\n",
    "        for viddata in rdfile['videodata']:\n",
    "            for speaker in viddata['speakers']:\n",
    "                raw_text = speaker['anftext']\n",
    "                raw_text = raw_text.replace(\"½\", \"och halv\")\n",
    "                paras = get_speaker_paragraphs(raw_text)\n",
    "                normed = normaliser_sv.normalize_list(paras)\n",
    "                speaker['anftext'] = \"\\r\\n\".join(normed)\n",
    "        stem = jsonfile.stem\n",
    "        outname = str(OUTFILES / stem)\n",
    "        with open(outname, \"w\") as outfile:\n",
    "            json.dump(rdfile, outfile)"
   ]
  }
 ],
 "metadata": {
  "kernelspec": {
   "display_name": "nemo_tn",
   "language": "python",
   "name": "python3"
  },
  "language_info": {
   "codemirror_mode": {
    "name": "ipython",
    "version": 3
   },
   "file_extension": ".py",
   "mimetype": "text/x-python",
   "name": "python",
   "nbconvert_exporter": "python",
   "pygments_lexer": "ipython3",
   "version": "3.8.0"
  },
  "orig_nbformat": 4,
  "vscode": {
   "interpreter": {
    "hash": "96c035648930bea69d9b07400b9579b46f611ac79813b1ca90c1f721b4f39cb5"
   }
  }
 },
 "nbformat": 4,
 "nbformat_minor": 2
}
