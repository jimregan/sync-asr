{
 "cells": [
  {
   "cell_type": "code",
   "execution_count": 1,
   "metadata": {},
   "outputs": [],
   "source": [
    "from pathlib import Path"
   ]
  },
  {
   "cell_type": "code",
   "execution_count": 2,
   "metadata": {},
   "outputs": [],
   "source": [
    "VIDPATH = Path(\"/sbtal/riksdag-video/\")"
   ]
  },
  {
   "cell_type": "code",
   "execution_count": 3,
   "metadata": {},
   "outputs": [],
   "source": [
    "_SWE_MODEL = \"jimregan/wav2vec2-swedish-phonetic-waxholm\""
   ]
  },
  {
   "cell_type": "code",
   "execution_count": 4,
   "metadata": {},
   "outputs": [
    {
     "name": "stderr",
     "output_type": "stream",
     "text": [
      "/home/joregan/miniconda3/envs/hf_new/lib/python3.11/site-packages/tqdm/auto.py:21: TqdmWarning: IProgress not found. Please update jupyter and ipywidgets. See https://ipywidgets.readthedocs.io/en/stable/user_install.html\n",
      "  from .autonotebook import tqdm as notebook_tqdm\n"
     ]
    }
   ],
   "source": [
    "from transformers import pipeline\n",
    "pipe = pipeline(model=_SWE_MODEL, device=1)"
   ]
  },
  {
   "cell_type": "code",
   "execution_count": 6,
   "metadata": {},
   "outputs": [],
   "source": [
    "from transformers import AutoProcessor\n",
    "\n",
    "processor = AutoProcessor.from_pretrained(_SWE_MODEL)\n",
    "vocab_dict = processor.tokenizer.get_vocab()\n",
    "sorted_vocab_dict = {k.lower(): v for k, v in sorted(vocab_dict.items(), key=lambda item: item[1])}\n"
   ]
  },
  {
   "cell_type": "code",
   "execution_count": 7,
   "metadata": {},
   "outputs": [],
   "source": [
    "from pydub import AudioSegment"
   ]
  },
  {
   "cell_type": "code",
   "execution_count": 16,
   "metadata": {},
   "outputs": [],
   "source": [
    "def convert_audio(audio_id):\n",
    "    parameters=[\"-ac\", \"1\", \"-acodec\", \"pcm_s16le\", \"-ar\", \"16000\"]\n",
    "    video_path = VIDPATH / f\"{audio_id}\"\n",
    "    video = AudioSegment.from_file(str(video_path), \"mp4\")\n",
    "    outname = f\"/tmp/{audio_id}.wav\"\n",
    "    video.export(outname, format=\"wav\", parameters=parameters)\n",
    "    return outname"
   ]
  },
  {
   "cell_type": "code",
   "execution_count": 9,
   "metadata": {},
   "outputs": [],
   "source": [
    "import json"
   ]
  },
  {
   "cell_type": "code",
   "execution_count": 11,
   "metadata": {},
   "outputs": [],
   "source": [
    "JSON_PATH = Path(\"/home/joregan/rd_phonetic\")"
   ]
  },
  {
   "cell_type": "code",
   "execution_count": null,
   "metadata": {},
   "outputs": [],
   "source": [
    "for video in VIDPATH.glob(\"*.mp4\"):\n",
    "    audio = video.stem\n",
    "    OUTFILE = JSON_PATH / f\"{audio}.json\"\n",
    "    # if not OUTFILE.exists():\n",
    "    wavfile = convert_audio(video.name)\n",
    "    output = pipe(wavfile, chunk_length_s=10, return_timestamps=\"word\")\n",
    "    with open(str(OUTFILE), \"w\") as jsonf:\n",
    "        json.dump(output, jsonf)"
   ]
  },
  {
   "cell_type": "code",
   "execution_count": null,
   "metadata": {},
   "outputs": [],
   "source": [
    "outputs = set([y for x, y in FILE_MAPPING.items()])\n",
    "len(outputs)"
   ]
  },
  {
   "cell_type": "code",
   "execution_count": null,
   "metadata": {},
   "outputs": [],
   "source": [
    "reverse = {}\n",
    "with open(\"mappings.tsv\", \"w\") as mappings:\n",
    "    for api, audio in FILE_MAPPING.items():\n",
    "        if audio in reverse:\n",
    "            continue\n",
    "        reverse[audio] = api\n",
    "        mappings.write(f\"{api}\\t{audio}\\n\")\n"
   ]
  }
 ],
 "metadata": {
  "kernelspec": {
   "display_name": "Python 3",
   "language": "python",
   "name": "python3"
  },
  "language_info": {
   "codemirror_mode": {
    "name": "ipython",
    "version": 3
   },
   "file_extension": ".py",
   "mimetype": "text/x-python",
   "name": "python",
   "nbconvert_exporter": "python",
   "pygments_lexer": "ipython3",
   "version": "3.11.5"
  },
  "orig_nbformat": 4,
  "vscode": {
   "interpreter": {
    "hash": "a665b5d41d17b532ea9890333293a1b812fa0b73c9c25c950b3cedf1bebd0438"
   }
  }
 },
 "nbformat": 4,
 "nbformat_minor": 2
}
