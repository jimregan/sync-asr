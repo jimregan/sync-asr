{
 "cells": [
  {
   "cell_type": "code",
   "execution_count": 1,
   "metadata": {},
   "outputs": [],
   "source": [
    "from pathlib import Path\n",
    "API_PATH = Path(\"/Users/joregan/Playing/rdapi/api_output\")"
   ]
  },
  {
   "cell_type": "code",
   "execution_count": 3,
   "metadata": {},
   "outputs": [],
   "source": [
    "from sync_asr.riksdag.riksdag_api import RiksdagAPI"
   ]
  },
  {
   "cell_type": "code",
   "execution_count": 31,
   "metadata": {},
   "outputs": [],
   "source": [
    "SAMPLE = RiksdagAPI(filename=str(API_PATH / \"H2C120150122fs\"))"
   ]
  },
  {
   "cell_type": "code",
   "execution_count": 32,
   "metadata": {},
   "outputs": [],
   "source": [
    "YEARS_RAW = {}\n",
    "YEARS_TRANSCRIBED = {}"
   ]
  },
  {
   "cell_type": "code",
   "execution_count": 38,
   "metadata": {},
   "outputs": [],
   "source": [
    "import re\n",
    "\n",
    "def sanity_check(api_file, key):\n",
    "    if \"videodata\" not in api_file.__dict__:\n",
    "        return False\n",
    "    if key not in api_file.__dict__[\"videodata\"]:\n",
    "        return False\n",
    "    else:\n",
    "        return True\n",
    "\n",
    "\n",
    "def get_year(api_file):\n",
    "    if not sanity_check(api_file, \"debatedate\"):\n",
    "        return None\n",
    "    year = re.search(\"([12][0-9][0-9][0-9])$\", api_file.__dict__[\"videodata\"][\"debatedate\"].strip())\n",
    "    if year:\n",
    "        return year.group(0)\n",
    "    else:\n",
    "        return None"
   ]
  },
  {
   "cell_type": "code",
   "execution_count": 43,
   "metadata": {},
   "outputs": [],
   "source": [
    "def get_raw_seconds(api_file):\n",
    "    if not sanity_check(api_file, \"debateseconds\"):\n",
    "        return None\n",
    "    return api_file.__dict__[\"videodata\"][\"debateseconds\"]\n"
   ]
  },
  {
   "cell_type": "code",
   "execution_count": 46,
   "metadata": {},
   "outputs": [
    {
     "data": {
      "text/plain": [
       "True"
      ]
     },
     "execution_count": 46,
     "metadata": {},
     "output_type": "execute_result"
    }
   ],
   "source": [
    "sanity_check(SAMPLE, \"speakers\")"
   ]
  },
  {
   "cell_type": "code",
   "execution_count": 51,
   "metadata": {},
   "outputs": [],
   "source": [
    "def get_transcribed_total(rdapi):\n",
    "    total = 0\n",
    "    if not sanity_check(SAMPLE, \"speakers\"):\n",
    "        return total\n",
    "    for speaker in rdapi.__dict__[\"videodata\"][\"speakers\"]:\n",
    "        if \"duration\" in speaker:\n",
    "            print(speaker[\"duration\"])\n",
    "            total += speaker[\"duration\"]\n",
    "    return total"
   ]
  },
  {
   "cell_type": "code",
   "execution_count": 52,
   "metadata": {},
   "outputs": [
    {
     "name": "stdout",
     "output_type": "stream",
     "text": [
      "65\n",
      "64\n",
      "65\n",
      "35\n",
      "56\n",
      "65\n",
      "42\n",
      "78\n",
      "66\n",
      "63\n",
      "66\n",
      "64\n",
      "63\n",
      "63\n",
      "20\n",
      "55\n",
      "69\n",
      "67\n",
      "50\n",
      "62\n",
      "53\n",
      "47\n",
      "60\n",
      "45\n",
      "72\n",
      "63\n",
      "72\n",
      "71\n",
      "58\n",
      "61\n",
      "31\n",
      "24\n",
      "76\n",
      "67\n",
      "66\n",
      "66\n",
      "66\n",
      "66\n",
      "62\n",
      "52\n",
      "47\n",
      "69\n",
      "26\n",
      "47\n",
      "53\n",
      "73\n",
      "58\n",
      "65\n",
      "66\n",
      "54\n",
      "57\n",
      "36\n",
      "64\n",
      "66\n",
      "61\n",
      "71\n",
      "62\n",
      "71\n",
      "65\n",
      "57\n"
     ]
    },
    {
     "data": {
      "text/plain": [
       "3524"
      ]
     },
     "execution_count": 52,
     "metadata": {},
     "output_type": "execute_result"
    }
   ],
   "source": [
    "get_transcribed_total(SAMPLE)"
   ]
  }
 ],
 "metadata": {
  "kernelspec": {
   "display_name": "syncasr_stats",
   "language": "python",
   "name": "python3"
  },
  "language_info": {
   "codemirror_mode": {
    "name": "ipython",
    "version": 3
   },
   "file_extension": ".py",
   "mimetype": "text/x-python",
   "name": "python",
   "nbconvert_exporter": "python",
   "pygments_lexer": "ipython3",
   "version": "3.9.16"
  },
  "orig_nbformat": 4
 },
 "nbformat": 4,
 "nbformat_minor": 2
}
