{
 "cells": [
  {
   "cell_type": "code",
   "execution_count": 1,
   "metadata": {},
   "outputs": [],
   "source": [
    "from pathlib import Path\n",
    "API_PATH = Path(\"/Users/joregan/Playing/rdapi/api_output\")"
   ]
  },
  {
   "cell_type": "code",
   "execution_count": 3,
   "metadata": {},
   "outputs": [],
   "source": [
    "from sync_asr.riksdag.riksdag_api import RiksdagAPI"
   ]
  },
  {
   "cell_type": "code",
   "execution_count": 31,
   "metadata": {},
   "outputs": [],
   "source": [
    "SAMPLE = RiksdagAPI(filename=str(API_PATH / \"H2C120150122fs\"))"
   ]
  },
  {
   "cell_type": "code",
   "execution_count": 32,
   "metadata": {},
   "outputs": [],
   "source": [
    "YEARS_RAW = {}\n",
    "YEARS_TRANSCRIBED = {}"
   ]
  },
  {
   "cell_type": "code",
   "execution_count": 62,
   "metadata": {},
   "outputs": [],
   "source": [
    "import re\n",
    "\n",
    "def sanity_check(api_file, key):\n",
    "    if \"videodata\" not in api_file.__dict__:\n",
    "        return False\n",
    "    if key not in api_file.__dict__[\"videodata\"]:\n",
    "        return False\n",
    "    else:\n",
    "        return True\n",
    "\n",
    "\n",
    "def get_year(api_file):\n",
    "    if not sanity_check(api_file, \"debatedate\"):\n",
    "        return None\n",
    "    if api_file.__dict__[\"videodata\"][\"debatedate\"] is None:\n",
    "        return None\n",
    "    if api_file.__dict__[\"videodata\"][\"debatedate\"].strip() == \"\":\n",
    "        return None\n",
    "    year = re.search(\"([12][0-9][0-9][0-9])$\", api_file.__dict__[\"videodata\"][\"debatedate\"].strip())\n",
    "    if year:\n",
    "        return year.group(0)\n",
    "    else:\n",
    "        return None"
   ]
  },
  {
   "cell_type": "code",
   "execution_count": 43,
   "metadata": {},
   "outputs": [],
   "source": [
    "def get_raw_seconds(api_file):\n",
    "    if not sanity_check(api_file, \"debateseconds\"):\n",
    "        return 0\n",
    "    return api_file.__dict__[\"videodata\"][\"debateseconds\"]\n"
   ]
  },
  {
   "cell_type": "code",
   "execution_count": 53,
   "metadata": {},
   "outputs": [
    {
     "data": {
      "text/plain": [
       "int"
      ]
     },
     "execution_count": 53,
     "metadata": {},
     "output_type": "execute_result"
    }
   ],
   "source": [
    "type(get_raw_seconds(SAMPLE))"
   ]
  },
  {
   "cell_type": "code",
   "execution_count": 58,
   "metadata": {},
   "outputs": [],
   "source": [
    "def get_transcribed_total(rdapi):\n",
    "    total = 0\n",
    "    if not sanity_check(rdapi, \"speakers\"):\n",
    "        return total\n",
    "    for speaker in rdapi.__dict__[\"videodata\"][\"speakers\"]:\n",
    "        if \"duration\" in speaker:\n",
    "            total += speaker[\"duration\"]\n",
    "    return total"
   ]
  },
  {
   "cell_type": "code",
   "execution_count": 61,
   "metadata": {},
   "outputs": [
    {
     "ename": "AttributeError",
     "evalue": "'NoneType' object has no attribute 'strip'",
     "output_type": "error",
     "traceback": [
      "\u001b[0;31m---------------------------------------------------------------------------\u001b[0m",
      "\u001b[0;31mAttributeError\u001b[0m                            Traceback (most recent call last)",
      "Cell \u001b[0;32mIn[61], line 3\u001b[0m\n\u001b[1;32m      1\u001b[0m \u001b[39mfor\u001b[39;00m filename \u001b[39min\u001b[39;00m API_PATH\u001b[39m.\u001b[39mglob(\u001b[39m\"\u001b[39m\u001b[39m*\u001b[39m\u001b[39m\"\u001b[39m):\n\u001b[1;32m      2\u001b[0m     api_file \u001b[39m=\u001b[39m RiksdagAPI(filename\u001b[39m=\u001b[39m\u001b[39mstr\u001b[39m(API_PATH \u001b[39m/\u001b[39m filename))\n\u001b[0;32m----> 3\u001b[0m     year \u001b[39m=\u001b[39m get_year(api_file)\n\u001b[1;32m      4\u001b[0m     \u001b[39mif\u001b[39;00m year \u001b[39mis\u001b[39;00m \u001b[39mNone\u001b[39;00m:\n\u001b[1;32m      5\u001b[0m         \u001b[39mcontinue\u001b[39;00m\n",
      "Cell \u001b[0;32mIn[60], line 15\u001b[0m, in \u001b[0;36mget_year\u001b[0;34m(api_file)\u001b[0m\n\u001b[1;32m     13\u001b[0m \u001b[39mif\u001b[39;00m \u001b[39mnot\u001b[39;00m sanity_check(api_file, \u001b[39m\"\u001b[39m\u001b[39mdebatedate\u001b[39m\u001b[39m\"\u001b[39m):\n\u001b[1;32m     14\u001b[0m     \u001b[39mreturn\u001b[39;00m \u001b[39mNone\u001b[39;00m\n\u001b[0;32m---> 15\u001b[0m year \u001b[39m=\u001b[39m re\u001b[39m.\u001b[39msearch(\u001b[39m\"\u001b[39m\u001b[39m([12][0-9][0-9][0-9])$\u001b[39m\u001b[39m\"\u001b[39m, api_file\u001b[39m.\u001b[39;49m\u001b[39m__dict__\u001b[39;49m[\u001b[39m\"\u001b[39;49m\u001b[39mvideodata\u001b[39;49m\u001b[39m\"\u001b[39;49m][\u001b[39m\"\u001b[39;49m\u001b[39mdebatedate\u001b[39;49m\u001b[39m\"\u001b[39;49m]\u001b[39m.\u001b[39;49mstrip())\n\u001b[1;32m     16\u001b[0m \u001b[39mif\u001b[39;00m year:\n\u001b[1;32m     17\u001b[0m     \u001b[39mreturn\u001b[39;00m year\u001b[39m.\u001b[39mgroup(\u001b[39m0\u001b[39m)\n",
      "\u001b[0;31mAttributeError\u001b[0m: 'NoneType' object has no attribute 'strip'"
     ]
    }
   ],
   "source": [
    "for filename in API_PATH.glob(\"*\"):\n",
    "    api_file = RiksdagAPI(filename=str(API_PATH / filename))\n",
    "    year = get_year(api_file)\n",
    "    if year is None:\n",
    "        continue\n",
    "    raw = get_raw_seconds(api_file)\n",
    "    ts = get_transcribed_total(api_file)\n",
    "    if year in YEARS_RAW:\n",
    "        YEARS_RAW[year] += raw\n",
    "    else:\n",
    "        YEARS_RAW[year] = raw\n",
    "    if year in YEARS_TRANSCRIBED:\n",
    "        YEARS_TRANSCRIBED[year] += ts\n",
    "    else:\n",
    "        YEARS_TRANSCRIBED[year] = ts"
   ]
  }
 ],
 "metadata": {
  "kernelspec": {
   "display_name": "syncasr_stats",
   "language": "python",
   "name": "python3"
  },
  "language_info": {
   "codemirror_mode": {
    "name": "ipython",
    "version": 3
   },
   "file_extension": ".py",
   "mimetype": "text/x-python",
   "name": "python",
   "nbconvert_exporter": "python",
   "pygments_lexer": "ipython3",
   "version": "3.9.16"
  },
  "orig_nbformat": 4
 },
 "nbformat": 4,
 "nbformat_minor": 2
}
