{
 "cells": [
  {
   "cell_type": "code",
   "execution_count": 1,
   "metadata": {},
   "outputs": [],
   "source": [
    "from pathlib import Path\n",
    "API_PATH = Path(\"/Users/joregan/Playing/rdapi/api_output\")"
   ]
  },
  {
   "cell_type": "code",
   "execution_count": 3,
   "metadata": {},
   "outputs": [],
   "source": [
    "from sync_asr.riksdag.riksdag_api import RiksdagAPI"
   ]
  },
  {
   "cell_type": "code",
   "execution_count": 31,
   "metadata": {},
   "outputs": [],
   "source": [
    "SAMPLE = RiksdagAPI(filename=str(API_PATH / \"H2C120150122fs\"))"
   ]
  },
  {
   "cell_type": "code",
   "execution_count": 32,
   "metadata": {},
   "outputs": [],
   "source": [
    "YEARS_RAW = {}\n",
    "YEARS_TRANSCRIBED = {}"
   ]
  },
  {
   "cell_type": "code",
   "execution_count": 62,
   "metadata": {},
   "outputs": [],
   "source": [
    "import re\n",
    "\n",
    "def sanity_check(api_file, key):\n",
    "    if \"videodata\" not in api_file.__dict__:\n",
    "        return False\n",
    "    if key not in api_file.__dict__[\"videodata\"]:\n",
    "        return False\n",
    "    else:\n",
    "        return True\n",
    "\n",
    "\n",
    "def get_year(api_file):\n",
    "    if not sanity_check(api_file, \"debatedate\"):\n",
    "        return None\n",
    "    if api_file.__dict__[\"videodata\"][\"debatedate\"] is None:\n",
    "        return None\n",
    "    if api_file.__dict__[\"videodata\"][\"debatedate\"].strip() == \"\":\n",
    "        return None\n",
    "    year = re.search(\"([12][0-9][0-9][0-9])$\", api_file.__dict__[\"videodata\"][\"debatedate\"].strip())\n",
    "    if year:\n",
    "        return year.group(0)\n",
    "    else:\n",
    "        return None"
   ]
  },
  {
   "cell_type": "code",
   "execution_count": 43,
   "metadata": {},
   "outputs": [],
   "source": [
    "def get_raw_seconds(api_file):\n",
    "    if not sanity_check(api_file, \"debateseconds\"):\n",
    "        return 0\n",
    "    return api_file.__dict__[\"videodata\"][\"debateseconds\"]\n"
   ]
  },
  {
   "cell_type": "code",
   "execution_count": 53,
   "metadata": {},
   "outputs": [
    {
     "data": {
      "text/plain": [
       "int"
      ]
     },
     "execution_count": 53,
     "metadata": {},
     "output_type": "execute_result"
    }
   ],
   "source": [
    "type(get_raw_seconds(SAMPLE))"
   ]
  },
  {
   "cell_type": "code",
   "execution_count": 58,
   "metadata": {},
   "outputs": [],
   "source": [
    "def get_transcribed_total(rdapi):\n",
    "    total = 0\n",
    "    if not sanity_check(rdapi, \"speakers\"):\n",
    "        return total\n",
    "    for speaker in rdapi.__dict__[\"videodata\"][\"speakers\"]:\n",
    "        if \"duration\" in speaker:\n",
    "            total += speaker[\"duration\"]\n",
    "    return total"
   ]
  },
  {
   "cell_type": "code",
   "execution_count": 63,
   "metadata": {},
   "outputs": [],
   "source": [
    "for filename in API_PATH.glob(\"*\"):\n",
    "    api_file = RiksdagAPI(filename=str(API_PATH / filename))\n",
    "    year = get_year(api_file)\n",
    "    if year is None:\n",
    "        continue\n",
    "    raw = get_raw_seconds(api_file)\n",
    "    ts = get_transcribed_total(api_file)\n",
    "    if year in YEARS_RAW:\n",
    "        YEARS_RAW[year] += raw\n",
    "    else:\n",
    "        YEARS_RAW[year] = raw\n",
    "    if year in YEARS_TRANSCRIBED:\n",
    "        YEARS_TRANSCRIBED[year] += ts\n",
    "    else:\n",
    "        YEARS_TRANSCRIBED[year] = ts"
   ]
  },
  {
   "cell_type": "code",
   "execution_count": 70,
   "metadata": {},
   "outputs": [],
   "source": [
    "MD_TABLE = \"\"\"\n",
    "| Year    | Raw audio (seconds) | Transcribed audio (seconds) |\n",
    "|---------|---------------------|-----------------------------|\n",
    "\"\"\"\n",
    "for key in sorted(YEARS_RAW):\n",
    "    MD_TABLE += f\"| {key} | {YEARS_RAW[key]} | {YEARS_TRANSCRIBED[key]} |\\n\""
   ]
  },
  {
   "cell_type": "code",
   "execution_count": 72,
   "metadata": {},
   "outputs": [
    {
     "data": {
      "text/markdown": [
       "\n",
       "| Year    | Raw audio (seconds) | Transcribed audio (seconds) |\n",
       "|---------|---------------------|-----------------------------|\n",
       "| 2012 | 19 | 0 |\n",
       "| 2013 | 2466902 | 1912591 |\n",
       "| 2014 | 3062128 | 2374238 |\n",
       "| 2015 | 2846652 | 2224617 |\n",
       "| 2016 | 2807182 | 2190416 |\n",
       "| 2017 | 2601171 | 2078119 |\n",
       "| 2018 | 2182782 | 1650943 |\n",
       "| 2019 | 2334274 | 1786766 |\n",
       "| 2020 | 2060902 | 1719997 |\n",
       "| 2021 | 3086041 | 2625609 |\n",
       "| 2022 | 118687 | 114522 |\n"
      ],
      "text/plain": [
       "<IPython.core.display.Markdown object>"
      ]
     },
     "metadata": {},
     "output_type": "display_data"
    }
   ],
   "source": [
    "from IPython.display import display, Markdown\n",
    "display(Markdown(MD_TABLE))"
   ]
  },
  {
   "cell_type": "code",
   "execution_count": 73,
   "metadata": {},
   "outputs": [
    {
     "name": "stdout",
     "output_type": "stream",
     "text": [
      "\n",
      "| Year    | Raw audio (seconds) | Transcribed audio (seconds) |\n",
      "|---------|---------------------|-----------------------------|\n",
      "| 2012 | 19 | 0 |\n",
      "| 2013 | 2466902 | 1912591 |\n",
      "| 2014 | 3062128 | 2374238 |\n",
      "| 2015 | 2846652 | 2224617 |\n",
      "| 2016 | 2807182 | 2190416 |\n",
      "| 2017 | 2601171 | 2078119 |\n",
      "| 2018 | 2182782 | 1650943 |\n",
      "| 2019 | 2334274 | 1786766 |\n",
      "| 2020 | 2060902 | 1719997 |\n",
      "| 2021 | 3086041 | 2625609 |\n",
      "| 2022 | 118687 | 114522 |\n",
      "\n"
     ]
    }
   ],
   "source": [
    "print(MD_TABLE)"
   ]
  }
 ],
 "metadata": {
  "kernelspec": {
   "display_name": "syncasr_stats",
   "language": "python",
   "name": "python3"
  },
  "language_info": {
   "codemirror_mode": {
    "name": "ipython",
    "version": 3
   },
   "file_extension": ".py",
   "mimetype": "text/x-python",
   "name": "python",
   "nbconvert_exporter": "python",
   "pygments_lexer": "ipython3",
   "version": "3.9.16"
  },
  "orig_nbformat": 4
 },
 "nbformat": 4,
 "nbformat_minor": 2
}
