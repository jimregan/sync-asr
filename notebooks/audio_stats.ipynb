{
 "cells": [
  {
   "cell_type": "code",
   "execution_count": 1,
   "metadata": {},
   "outputs": [],
   "source": [
    "from pathlib import Path\n",
    "API_PATH = Path(\"/Users/joregan/Playing/rdapi/api_output\")"
   ]
  },
  {
   "cell_type": "code",
   "execution_count": 3,
   "metadata": {},
   "outputs": [],
   "source": [
    "from sync_asr.riksdag.riksdag_api import RiksdagAPI"
   ]
  },
  {
   "cell_type": "code",
   "execution_count": 31,
   "metadata": {},
   "outputs": [],
   "source": [
    "SAMPLE = RiksdagAPI(filename=str(API_PATH / \"H2C120150122fs\"))"
   ]
  },
  {
   "cell_type": "code",
   "execution_count": 32,
   "metadata": {},
   "outputs": [],
   "source": [
    "YEARS_RAW = {}\n",
    "YEARS_TRANSCRIBED = {}"
   ]
  },
  {
   "cell_type": "code",
   "execution_count": 38,
   "metadata": {},
   "outputs": [],
   "source": [
    "import re\n",
    "\n",
    "def sanity_check(api_file, key):\n",
    "    if \"videodata\" not in api_file.__dict__:\n",
    "        return False\n",
    "    if key not in api_file.__dict__[\"videodata\"]:\n",
    "        return False\n",
    "    else:\n",
    "        return True\n",
    "\n",
    "\n",
    "def get_year(api_file):\n",
    "    if not sanity_check(api_file, \"debatedate\"):\n",
    "        return None\n",
    "    year = re.search(\"([12][0-9][0-9][0-9])$\", api_file.__dict__[\"videodata\"][\"debatedate\"].strip())\n",
    "    if year:\n",
    "        return year.group(0)\n",
    "    else:\n",
    "        return None"
   ]
  },
  {
   "cell_type": "code",
   "execution_count": 43,
   "metadata": {},
   "outputs": [],
   "source": [
    "def get_raw_seconds(api_file):\n",
    "    if not sanity_check(api_file, \"debateseconds\"):\n",
    "        return 0\n",
    "    return api_file.__dict__[\"videodata\"][\"debateseconds\"]\n"
   ]
  },
  {
   "cell_type": "code",
   "execution_count": 53,
   "metadata": {},
   "outputs": [
    {
     "data": {
      "text/plain": [
       "int"
      ]
     },
     "execution_count": 53,
     "metadata": {},
     "output_type": "execute_result"
    }
   ],
   "source": [
    "type(get_raw_seconds(SAMPLE))"
   ]
  },
  {
   "cell_type": "code",
   "execution_count": 56,
   "metadata": {},
   "outputs": [],
   "source": [
    "def get_transcribed_total(rdapi):\n",
    "    total = 0\n",
    "    if not sanity_check(SAMPLE, \"speakers\"):\n",
    "        return total\n",
    "    for speaker in rdapi.__dict__[\"videodata\"][\"speakers\"]:\n",
    "        if \"duration\" in speaker:\n",
    "            total += speaker[\"duration\"]\n",
    "    return total"
   ]
  },
  {
   "cell_type": "code",
   "execution_count": 57,
   "metadata": {},
   "outputs": [
    {
     "ename": "KeyError",
     "evalue": "'speakers'",
     "output_type": "error",
     "traceback": [
      "\u001b[0;31m---------------------------------------------------------------------------\u001b[0m",
      "\u001b[0;31mKeyError\u001b[0m                                  Traceback (most recent call last)",
      "Cell \u001b[0;32mIn[57], line 7\u001b[0m\n\u001b[1;32m      5\u001b[0m     \u001b[39mcontinue\u001b[39;00m\n\u001b[1;32m      6\u001b[0m raw \u001b[39m=\u001b[39m get_raw_seconds(api_file)\n\u001b[0;32m----> 7\u001b[0m ts \u001b[39m=\u001b[39m get_transcribed_total(api_file)\n\u001b[1;32m      8\u001b[0m \u001b[39mif\u001b[39;00m year \u001b[39min\u001b[39;00m YEARS_RAW:\n\u001b[1;32m      9\u001b[0m     YEARS_RAW[year] \u001b[39m+\u001b[39m\u001b[39m=\u001b[39m raw\n",
      "Cell \u001b[0;32mIn[56], line 5\u001b[0m, in \u001b[0;36mget_transcribed_total\u001b[0;34m(rdapi)\u001b[0m\n\u001b[1;32m      3\u001b[0m \u001b[39mif\u001b[39;00m \u001b[39mnot\u001b[39;00m sanity_check(SAMPLE, \u001b[39m\"\u001b[39m\u001b[39mspeakers\u001b[39m\u001b[39m\"\u001b[39m):\n\u001b[1;32m      4\u001b[0m     \u001b[39mreturn\u001b[39;00m total\n\u001b[0;32m----> 5\u001b[0m \u001b[39mfor\u001b[39;00m speaker \u001b[39min\u001b[39;00m rdapi\u001b[39m.\u001b[39;49m\u001b[39m__dict__\u001b[39;49m[\u001b[39m\"\u001b[39;49m\u001b[39mvideodata\u001b[39;49m\u001b[39m\"\u001b[39;49m][\u001b[39m\"\u001b[39;49m\u001b[39mspeakers\u001b[39;49m\u001b[39m\"\u001b[39;49m]:\n\u001b[1;32m      6\u001b[0m     \u001b[39mif\u001b[39;00m \u001b[39m\"\u001b[39m\u001b[39mduration\u001b[39m\u001b[39m\"\u001b[39m \u001b[39min\u001b[39;00m speaker:\n\u001b[1;32m      7\u001b[0m         total \u001b[39m+\u001b[39m\u001b[39m=\u001b[39m speaker[\u001b[39m\"\u001b[39m\u001b[39mduration\u001b[39m\u001b[39m\"\u001b[39m]\n",
      "\u001b[0;31mKeyError\u001b[0m: 'speakers'"
     ]
    }
   ],
   "source": [
    "for filename in API_PATH.glob(\"*\"):\n",
    "    api_file = RiksdagAPI(filename=str(API_PATH / filename))\n",
    "    year = get_year(api_file)\n",
    "    if year is None:\n",
    "        continue\n",
    "    raw = get_raw_seconds(api_file)\n",
    "    ts = get_transcribed_total(api_file)\n",
    "    if year in YEARS_RAW:\n",
    "        YEARS_RAW[year] += raw\n",
    "    else:\n",
    "        YEARS_RAW[year] = raw\n",
    "    if year in YEARS_TRANSCRIBED:\n",
    "        YEARS_TRANSCRIBED[year] += ts\n",
    "    else:\n",
    "        YEARS_TRANSCRIBED[year] = ts"
   ]
  }
 ],
 "metadata": {
  "kernelspec": {
   "display_name": "syncasr_stats",
   "language": "python",
   "name": "python3"
  },
  "language_info": {
   "codemirror_mode": {
    "name": "ipython",
    "version": 3
   },
   "file_extension": ".py",
   "mimetype": "text/x-python",
   "name": "python",
   "nbconvert_exporter": "python",
   "pygments_lexer": "ipython3",
   "version": "3.9.16"
  },
  "orig_nbformat": 4
 },
 "nbformat": 4,
 "nbformat_minor": 2
}
