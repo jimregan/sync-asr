{
 "cells": [
  {
   "cell_type": "code",
   "execution_count": 1,
   "metadata": {},
   "outputs": [],
   "source": [
    "MODERNISATIONS = \"\"\"\n",
    "franczia francia\n",
    "Bukfenczet Bukfencet\n",
    "finánczokat fináncokat\n",
    "arczomat, arcomat,\n",
    "perczczel perccel\n",
    "\"\"\""
   ]
  },
  {
   "cell_type": "code",
   "execution_count": null,
   "metadata": {},
   "outputs": [],
   "source": [
    "try:\n",
    "    from sync_asr.specific.hu.figurak import MODERNISATIONS\n",
    "except ImportError:\n",
    "    pass\n"
   ]
  },
  {
   "cell_type": "code",
   "execution_count": 12,
   "metadata": {},
   "outputs": [],
   "source": [
    "import sys, os"
   ]
  },
  {
   "cell_type": "code",
   "execution_count": 21,
   "metadata": {},
   "outputs": [
    {
     "data": {
      "text/plain": [
       "'/home/joregan/sync-asr/sync_asr'"
      ]
     },
     "execution_count": 21,
     "metadata": {},
     "output_type": "execute_result"
    }
   ],
   "source": [
    "os.path.join(os.path.abspath('..'), \"sync_asr\")"
   ]
  },
  {
   "cell_type": "code",
   "execution_count": 19,
   "metadata": {},
   "outputs": [
    {
     "data": {
      "text/plain": [
       "PosixPath('/home/joregan/sync-asr/notebooks/../sync_asr')"
      ]
     },
     "execution_count": 19,
     "metadata": {},
     "output_type": "execute_result"
    }
   ],
   "source": [
    "from pathlib import Path\n",
    "(Path(\"..\") / \"sync_asr\").absolute()"
   ]
  },
  {
   "cell_type": "code",
   "execution_count": 2,
   "metadata": {},
   "outputs": [],
   "source": [
    "NORMALISATIONS = \"\"\"\n",
    "1-ső\telső\n",
    "1-év,\telső év,\n",
    "3-ik\tharmadik\n",
    "3\thárom\n",
    "5\töt\n",
    "1879.\tezernyolcszázhetvenkilenc\n",
    "126.\tszázhuszonhat\n",
    "XL.\tnegyvenedik\n",
    "§-a\tparagrafusa\n",
    "\"\"\""
   ]
  },
  {
   "cell_type": "code",
   "execution_count": 3,
   "metadata": {},
   "outputs": [],
   "source": [
    "TEXT = \"https://www.gutenberg.org/cache/epub/41683/pg41683.txt\""
   ]
  },
  {
   "cell_type": "code",
   "execution_count": 4,
   "metadata": {},
   "outputs": [],
   "source": [
    "START = \"A gizehi pergamen-lapok.\"\n",
    "END = \"A nagyapó.\""
   ]
  },
  {
   "cell_type": "code",
   "execution_count": 5,
   "metadata": {},
   "outputs": [],
   "source": [
    "import requests"
   ]
  },
  {
   "cell_type": "code",
   "execution_count": 6,
   "metadata": {},
   "outputs": [],
   "source": [
    "req = requests.get(TEXT)"
   ]
  },
  {
   "cell_type": "code",
   "execution_count": 7,
   "metadata": {},
   "outputs": [],
   "source": [
    "assert req.status_code == 200"
   ]
  },
  {
   "cell_type": "code",
   "execution_count": 8,
   "metadata": {},
   "outputs": [],
   "source": [
    "the_text = START + req.text.split(START)[1].split(END)[0]"
   ]
  },
  {
   "cell_type": "code",
   "execution_count": 9,
   "metadata": {},
   "outputs": [],
   "source": [
    "lines = [x.strip().replace(\"_\", \"\") for x in the_text.split('\\r\\n') if x.strip() != \"\"]"
   ]
  }
 ],
 "metadata": {
  "kernelspec": {
   "display_name": "whisper-v3",
   "language": "python",
   "name": "python3"
  },
  "language_info": {
   "codemirror_mode": {
    "name": "ipython",
    "version": 3
   },
   "file_extension": ".py",
   "mimetype": "text/x-python",
   "name": "python",
   "nbconvert_exporter": "python",
   "pygments_lexer": "ipython3",
   "version": "3.10.13"
  }
 },
 "nbformat": 4,
 "nbformat_minor": 2
}
