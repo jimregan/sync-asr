{
 "cells": [
  {
   "cell_type": "code",
   "execution_count": null,
   "metadata": {},
   "outputs": [],
   "source": [
    "MODERNISATIONS = \"\"\"\n",
    "franczia\n",
    "Bukfenczet\n",
    "finánczokat\n",
    "arczomat,\n",
    "perczczel\n",
    "\"\"\""
   ]
  },
  {
   "cell_type": "code",
   "execution_count": null,
   "metadata": {},
   "outputs": [],
   "source": [
    "NORMALISATIONS = \"\"\"\n",
    "1-ső\telső\n",
    "1-év,\telső év,\n",
    "3-ik\tharmadik\n",
    "3\thárom\n",
    "5\töt\n",
    "1879.\tezernyolcszázhetvenkilenc\n",
    "126.\tszázhuszonhat\n",
    "XL.\tnegyvenedik\n",
    "§-a\tparagrafusa\n",
    "\"\"\""
   ]
  }
 ],
 "metadata": {
  "language_info": {
   "name": "python"
  }
 },
 "nbformat": 4,
 "nbformat_minor": 2
}
