{
 "cells": [
  {
   "cell_type": "code",
   "execution_count": 1,
   "metadata": {},
   "outputs": [],
   "source": [
    "INPUT_LIST = \"/Users/joregan/Playing/rdapi_subset\""
   ]
  },
  {
   "cell_type": "code",
   "execution_count": 2,
   "metadata": {},
   "outputs": [],
   "source": [
    "API_FILENAMES = []\n",
    "with open(INPUT_LIST) as ilist:\n",
    "    for line in ilist.readlines():\n",
    "        parts = line.split()\n",
    "        API_FILENAMES.append(parts[0])"
   ]
  },
  {
   "cell_type": "code",
   "execution_count": 3,
   "metadata": {},
   "outputs": [],
   "source": [
    "from pathlib import Path\n",
    "API_PATH = Path(\"/Users/joregan/Playing/rdapi/api_output/\")"
   ]
  },
  {
   "cell_type": "code",
   "execution_count": 21,
   "metadata": {},
   "outputs": [],
   "source": [
    "LM_TEXT_PATH = Path(\"/Users/joregan/Playing/rdapi/lm_text/\")"
   ]
  },
  {
   "cell_type": "code",
   "execution_count": 4,
   "metadata": {},
   "outputs": [],
   "source": [
    "from sync_asr.riksdag.riksdag_api import RiksdagAPI"
   ]
  },
  {
   "cell_type": "code",
   "execution_count": null,
   "metadata": {},
   "outputs": [],
   "source": [
    "!pip install mosestokenizer"
   ]
  },
  {
   "cell_type": "code",
   "execution_count": 12,
   "metadata": {},
   "outputs": [
    {
     "name": "stderr",
     "output_type": "stream",
     "text": [
      "stdbuf was not found; communication with perl may hang due to stdio buffering.\n"
     ]
    }
   ],
   "source": [
    "from mosestokenizer import MosesSentenceSplitter\n",
    "splitter = MosesSentenceSplitter('sv')"
   ]
  },
  {
   "cell_type": "code",
   "execution_count": 27,
   "metadata": {},
   "outputs": [],
   "source": [
    "import re\n",
    "ALPHA = \"abcdefghijklmnopqrstuvwxyzåäö\"\n",
    "NUM = \"0123456789\"\n",
    "WORDPUNCT = \":-\"\n",
    "ALLOWED = ' ' + ALPHA + NUM + WORDPUNCT\n",
    "\n",
    "def cleantext(text: str) -> str:\n",
    "    text = text.lower()\n",
    "    text = text.replace(\": \", \" \")\n",
    "    text = text.replace(\", \", \" \")\n",
    "    text = text.replace(\" - \", \" \")\n",
    "    text = re.sub(\"  +\", \" \", text)\n",
    "    chars = [x for x in text if x in ALLOWED]\n",
    "    text = \"\".join(chars)\n",
    "\n",
    "    return text"
   ]
  },
  {
   "cell_type": "code",
   "execution_count": 28,
   "metadata": {},
   "outputs": [],
   "source": [
    "for filename in API_FILENAMES:\n",
    "    FILE_PATH = API_PATH / filename\n",
    "    lm_text_file = LM_TEXT_PATH / filename\n",
    "    api = RiksdagAPI(filename=str(FILE_PATH))\n",
    "    paras = [x['text'] for x in api.get_paragraphs_with_ids()]\n",
    "    paras = [p for p in paras if p != \"\"]\n",
    "    sents = splitter(paras)\n",
    "    tmp_rejoin = \"\\n\".join(sents)\n",
    "    tmp_rejoin = tmp_rejoin.replace(\":\\ns \", \":s \")\n",
    "    tmp_rejoin = tmp_rejoin.replace(\":\\nen \", \":en \")\n",
    "    tmp_rejoin = tmp_rejoin.replace(\":\\nt \", \":t \")\n",
    "    tmp_rejoin = tmp_rejoin.replace(\":\\n\", \"\\n\")\n",
    "    sents = tmp_rejoin.split(\"\\n\")\n",
    "    with open(str(lm_text_file), \"w\") as lm:\n",
    "        for s in sents:\n",
    "            lm.write(cleantext(s) + \"\\n\")\n",
    "    "
   ]
  }
 ],
 "metadata": {
  "kernelspec": {
   "display_name": "syncasr",
   "language": "python",
   "name": "python3"
  },
  "language_info": {
   "codemirror_mode": {
    "name": "ipython",
    "version": 3
   },
   "file_extension": ".py",
   "mimetype": "text/x-python",
   "name": "python",
   "nbconvert_exporter": "python",
   "pygments_lexer": "ipython3",
   "version": "3.10.4 (main, Mar 31 2022, 03:38:35) [Clang 12.0.0 ]"
  },
  "orig_nbformat": 4,
  "vscode": {
   "interpreter": {
    "hash": "b14868e5dbb3a6a367a613f4eebdddedfb583b8ff3af550c4fc194fb658d341b"
   }
  }
 },
 "nbformat": 4,
 "nbformat_minor": 2
}
