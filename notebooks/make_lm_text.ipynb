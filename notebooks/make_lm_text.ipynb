{
 "cells": [
  {
   "cell_type": "code",
   "execution_count": 1,
   "metadata": {},
   "outputs": [],
   "source": [
    "INPUT_LIST = \"/Users/joregan/Playing/rdapi_subset\""
   ]
  },
  {
   "cell_type": "code",
   "execution_count": 2,
   "metadata": {},
   "outputs": [],
   "source": [
    "API_FILENAMES = []\n",
    "with open(INPUT_LIST) as ilist:\n",
    "    for line in ilist.readlines():\n",
    "        parts = line.split()\n",
    "        API_FILENAMES.append(parts[0])"
   ]
  },
  {
   "cell_type": "code",
   "execution_count": 3,
   "metadata": {},
   "outputs": [],
   "source": [
    "from pathlib import Path\n",
    "API_PATH = Path(\"/Users/joregan/Playing/rdapi/api_output/\")"
   ]
  },
  {
   "cell_type": "code",
   "execution_count": 9,
   "metadata": {},
   "outputs": [
    {
     "ename": "ModuleNotFoundError",
     "evalue": "No module named 'sync_asr'",
     "output_type": "error",
     "traceback": [
      "\u001b[0;31m---------------------------------------------------------------------------\u001b[0m",
      "\u001b[0;31mModuleNotFoundError\u001b[0m                       Traceback (most recent call last)",
      "Cell \u001b[0;32mIn[9], line 1\u001b[0m\n\u001b[0;32m----> 1\u001b[0m \u001b[39mfrom\u001b[39;00m \u001b[39msync_asr\u001b[39;00m\u001b[39m.\u001b[39;00m\u001b[39mriksdag\u001b[39;00m\u001b[39m.\u001b[39;00m\u001b[39mriksdag_api\u001b[39;00m \u001b[39mimport\u001b[39;00m RiksdagAPI\n",
      "\u001b[0;31mModuleNotFoundError\u001b[0m: No module named 'sync_asr'"
     ]
    }
   ],
   "source": [
    "from sync_asr.riksdag.riksdag_api import RiksdagAPI"
   ]
  },
  {
   "cell_type": "code",
   "execution_count": null,
   "metadata": {},
   "outputs": [],
   "source": []
  },
  {
   "cell_type": "code",
   "execution_count": null,
   "metadata": {},
   "outputs": [
    {
     "ename": "",
     "evalue": "",
     "output_type": "error",
     "traceback": [
      "\u001b[1;31mRunning cells with 'syncasr' requires ipykernel package.\n",
      "\u001b[1;31mRun the following command to install 'ipykernel' into the Python environment. \n",
      "\u001b[1;31mCommand: 'conda install -n syncasr ipykernel --update-deps --force-reinstall'"
     ]
    }
   ],
   "source": [
    "for filename in API_FILENAMES:\n",
    "    FILE_PATH = API_PATH / filename\n",
    "    "
   ]
  }
 ],
 "metadata": {
  "kernelspec": {
   "display_name": "syncasr",
   "language": "python",
   "name": "python3"
  },
  "language_info": {
   "codemirror_mode": {
    "name": "ipython",
    "version": 3
   },
   "file_extension": ".py",
   "mimetype": "text/x-python",
   "name": "python",
   "nbconvert_exporter": "python",
   "pygments_lexer": "ipython3",
   "version": "3.10.4"
  },
  "orig_nbformat": 4,
  "vscode": {
   "interpreter": {
    "hash": "b14868e5dbb3a6a367a613f4eebdddedfb583b8ff3af550c4fc194fb658d341b"
   }
  }
 },
 "nbformat": 4,
 "nbformat_minor": 2
}
