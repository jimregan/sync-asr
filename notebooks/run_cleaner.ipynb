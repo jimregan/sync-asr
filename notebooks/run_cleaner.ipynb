{
 "cells": [
  {
   "cell_type": "code",
   "execution_count": 1,
   "metadata": {},
   "outputs": [],
   "source": [
    "MYDIR = \"/Users/joregan/Playing/rd_ctm_edit\""
   ]
  },
  {
   "cell_type": "code",
   "execution_count": 2,
   "metadata": {},
   "outputs": [],
   "source": [
    "from pathlib import Path"
   ]
  },
  {
   "cell_type": "code",
   "execution_count": 3,
   "metadata": {},
   "outputs": [],
   "source": [
    "WD = Path(MYDIR)"
   ]
  },
  {
   "cell_type": "code",
   "execution_count": 4,
   "metadata": {},
   "outputs": [],
   "source": [
    "from sync_asr.ctm_edit import ctm_from_file"
   ]
  },
  {
   "cell_type": "code",
   "execution_count": 5,
   "metadata": {},
   "outputs": [],
   "source": [
    "from sync_asr.riksdag.corrections import get_corrections"
   ]
  },
  {
   "cell_type": "code",
   "execution_count": 6,
   "metadata": {},
   "outputs": [],
   "source": [
    "corrections = get_corrections()"
   ]
  },
  {
   "cell_type": "code",
   "execution_count": 7,
   "metadata": {},
   "outputs": [
    {
     "data": {
      "text/plain": [
       "{'byggsenktionsavgiften': 'byggsanktionsavgiften',\n",
       " 'här': 'herr',\n",
       " 'vvi': 'vi',\n",
       " 'prisposbeloppet': 'prisbasbeloppet',\n",
       " 'äste': 'SD',\n",
       " 'äm': 'M',\n",
       " 'se': 'C',\n",
       " 'euavgiften': 'EU-avgiften',\n",
       " 'för': 'Fru',\n",
       " 'sveridemokraterna': 'Sverigedemokraterna',\n",
       " 'ner': 'ned',\n",
       " 'svärjiedemokraterna': 'Sverigedemokraterna',\n",
       " 'sveriedemokraterna': 'Sverigedemokraterna',\n",
       " 'utvecklingsbeståndet': 'utvecklingsbiståndet',\n",
       " 'utvecklingsbestånd': 'utvecklingsbistånd',\n",
       " 'katastrofbestånd': 'katastrofbistånd',\n",
       " 'korruptionskrad': 'korruptionsgrad',\n",
       " 'eustarter': 'EU-stater',\n",
       " 'transperensie': 'Transparency',\n",
       " 'trafiknytterhetsprov': 'trafiknykterhetsprov',\n",
       " 'kommer': 'komma',\n",
       " 'björnlund': 'Björlund',\n",
       " 'allså': 'alltså',\n",
       " 'ine': 'inne',\n",
       " 'klasgöran': 'Clas-Göran',\n",
       " 'karlson': 'Carlsson',\n",
       " 'karlsson': 'Carlsson',\n",
       " 'forsell': 'Forssell',\n",
       " 'flygstriskrafterna': 'flygstridskrafterna',\n",
       " 'deplessionen': 'depressionen',\n",
       " 'riksreevisionen': 'Riksrevisionen',\n",
       " 'essregeringar': 'S-regeringar',\n",
       " 'meskick': 'medskick',\n",
       " 'erikson': 'Eriksson',\n",
       " 'gustavsson': 'Gustafsson',\n",
       " 'omissligt': 'omistligt',\n",
       " 'debatttiden': 'debattiden',\n",
       " 'intepulation': 'interpellation',\n",
       " 'intepelanten': 'interpellanten',\n",
       " 'interpulationsdebatter': 'interpellationsdebatter',\n",
       " 'mädskick': 'medskick',\n",
       " 'interpulationsdebatterna': 'interpellationsdebatterna',\n",
       " 'intepelationerna': 'interpellationerna',\n",
       " 'huvurmnanskap': 'huvudmannaskap',\n",
       " 'huvudmanskap': 'huvudmannaskap',\n",
       " 'dödblindhet': 'dövblindhet',\n",
       " 'tvdebatt': 'tv-debatt',\n",
       " 'teckensprakstolkning': 'teckenspråkstolkning',\n",
       " 'nobellpriset': 'Nobelpriset',\n",
       " 'renome': 'renommé',\n",
       " 'bolonja': 'Bologna',\n",
       " 'de': 'det',\n",
       " 'den': 'det',\n",
       " 'eböcker': 'e-böcker',\n",
       " 'tevelicensen': 'tv-licensen',\n",
       " 'sveries': 'Sveriges',\n",
       " 'tevavgift': 'tv-avgift',\n",
       " 'tevilicensen': 'tv-licensen',\n",
       " 'färgtvn': 'färg-tv:n',\n",
       " 'tvekanal': 'tv-kanal',\n",
       " 'tvkanal': 'tv-kanal',\n",
       " 'tevefyra': 'TV4',\n",
       " 'smartfons': 'smartphones',\n",
       " 'reklamfinanserade': 'reklamfinansierade',\n",
       " 'tvinnehavet': 'tv-innehavet',\n",
       " 'teveapparat': 'tv-apparat',\n",
       " 'tvilicensen': 'tv-licensen',\n",
       " 'tevelicensplikten': 'tv-licensplikten',\n",
       " 'tveavgiftssystem': 'tv-avgiftssystem',\n",
       " 'tven': 'tv:n',\n",
       " 'esvete': 'SVT',\n",
       " 'allmnhetens': 'allmänhetens',\n",
       " 'teveföretagen': 'tv-företagen',\n",
       " 'terorism': 'terrorism',\n",
       " 'teroristorganisationers': 'terroristorganisationers',\n",
       " 'teroristbrott': 'terroristbrott',\n",
       " 'teroriseras': 'terroriseras',\n",
       " 'terorister': 'terrorister'}"
      ]
     },
     "execution_count": 7,
     "metadata": {},
     "output_type": "execute_result"
    }
   ],
   "source": [
    "corrections"
   ]
  },
  {
   "cell_type": "code",
   "execution_count": 8,
   "metadata": {},
   "outputs": [
    {
     "ename": "KeyboardInterrupt",
     "evalue": "",
     "output_type": "error",
     "traceback": [
      "\u001b[0;31m---------------------------------------------------------------------------\u001b[0m",
      "\u001b[0;31mKeyboardInterrupt\u001b[0m                         Traceback (most recent call last)",
      "Cell \u001b[0;32mIn[8], line 2\u001b[0m\n\u001b[1;32m      1\u001b[0m \u001b[38;5;28;01mfor\u001b[39;00m file \u001b[38;5;129;01min\u001b[39;00m WD\u001b[38;5;241m.\u001b[39mglob(\u001b[38;5;124m\"\u001b[39m\u001b[38;5;124mH*\u001b[39m\u001b[38;5;124m\"\u001b[39m):\n\u001b[0;32m----> 2\u001b[0m     lines \u001b[38;5;241m=\u001b[39m \u001b[43mctm_from_file\u001b[49m\u001b[43m(\u001b[49m\u001b[43mfile\u001b[49m\u001b[43m)\u001b[49m\n\u001b[1;32m      3\u001b[0m     \u001b[38;5;28;01mfor\u001b[39;00m line \u001b[38;5;129;01min\u001b[39;00m lines:\n\u001b[1;32m      4\u001b[0m         \u001b[38;5;28;01mpass\u001b[39;00m\n",
      "File \u001b[0;32m~/opt/anaconda3/envs/syncasr_stats/lib/python3.9/site-packages/sync_asr/ctm_edit.py:148\u001b[0m, in \u001b[0;36mctm_from_file\u001b[0;34m(filename)\u001b[0m\n\u001b[1;32m    146\u001b[0m \u001b[38;5;28;01mwith\u001b[39;00m \u001b[38;5;28mopen\u001b[39m(filename) \u001b[38;5;28;01mas\u001b[39;00m \u001b[38;5;28minput\u001b[39m:\n\u001b[1;32m    147\u001b[0m     \u001b[38;5;28;01mfor\u001b[39;00m line \u001b[38;5;129;01min\u001b[39;00m \u001b[38;5;28minput\u001b[39m\u001b[38;5;241m.\u001b[39mreadlines():\n\u001b[0;32m--> 148\u001b[0m         ctm_lines\u001b[38;5;241m.\u001b[39mappend(\u001b[43mCTMEditLine\u001b[49m\u001b[43m(\u001b[49m\u001b[43mline\u001b[49m\u001b[38;5;241;43m.\u001b[39;49m\u001b[43mstrip\u001b[49m\u001b[43m(\u001b[49m\u001b[43m)\u001b[49m\u001b[43m)\u001b[49m)\n\u001b[1;32m    149\u001b[0m \u001b[38;5;28;01mreturn\u001b[39;00m ctm_lines\n",
      "File \u001b[0;32m~/opt/anaconda3/envs/syncasr_stats/lib/python3.9/site-packages/sync_asr/ctm_edit.py:22\u001b[0m, in \u001b[0;36mCTMEditLine.__init__\u001b[0;34m(self, from_line, from_kaldi_list, verbose)\u001b[0m\n\u001b[1;32m     20\u001b[0m \u001b[38;5;28;01mdef\u001b[39;00m \u001b[38;5;21m__init__\u001b[39m(\u001b[38;5;28mself\u001b[39m, from_line\u001b[38;5;241m=\u001b[39m\u001b[38;5;124m\"\u001b[39m\u001b[38;5;124m\"\u001b[39m, from_kaldi_list\u001b[38;5;241m=\u001b[39m\u001b[38;5;28;01mNone\u001b[39;00m, verbose\u001b[38;5;241m=\u001b[39m\u001b[38;5;28;01mFalse\u001b[39;00m):\n\u001b[1;32m     21\u001b[0m     \u001b[38;5;28;01mif\u001b[39;00m from_line \u001b[38;5;241m!=\u001b[39m \u001b[38;5;124m\"\u001b[39m\u001b[38;5;124m\"\u001b[39m:\n\u001b[0;32m---> 22\u001b[0m         \u001b[38;5;28;43mself\u001b[39;49m\u001b[38;5;241;43m.\u001b[39;49m\u001b[43mfrom_line\u001b[49m\u001b[43m(\u001b[49m\u001b[43mfrom_line\u001b[49m\u001b[43m)\u001b[49m\n\u001b[1;32m     23\u001b[0m     \u001b[38;5;28;01melif\u001b[39;00m from_kaldi_list \u001b[38;5;129;01mis\u001b[39;00m \u001b[38;5;129;01mnot\u001b[39;00m \u001b[38;5;28;01mNone\u001b[39;00m:\n\u001b[1;32m     24\u001b[0m         \u001b[38;5;28mself\u001b[39m\u001b[38;5;241m.\u001b[39mfrom_list(from_kaldi_list, \u001b[38;5;28;01mTrue\u001b[39;00m)\n",
      "File \u001b[0;32m~/opt/anaconda3/envs/syncasr_stats/lib/python3.9/site-packages/sync_asr/ctm_edit.py:49\u001b[0m, in \u001b[0;36mCTMEditLine.from_line\u001b[0;34m(self, text)\u001b[0m\n\u001b[1;32m     46\u001b[0m \u001b[38;5;28;01mdef\u001b[39;00m \u001b[38;5;21mfrom_line\u001b[39m(\u001b[38;5;28mself\u001b[39m, text: \u001b[38;5;28mstr\u001b[39m):\n\u001b[1;32m     47\u001b[0m     \u001b[38;5;66;03m# AJJacobs_2007P-0001605-0003029 1 0 0.09 <eps> 1.0 <eps> sil tainted\u001b[39;00m\n\u001b[1;32m     48\u001b[0m     parts \u001b[38;5;241m=\u001b[39m text\u001b[38;5;241m.\u001b[39mstrip()\u001b[38;5;241m.\u001b[39msplit()\n\u001b[0;32m---> 49\u001b[0m     \u001b[38;5;28;43mself\u001b[39;49m\u001b[38;5;241;43m.\u001b[39;49m\u001b[43mfrom_list\u001b[49m\u001b[43m(\u001b[49m\u001b[43mparts\u001b[49m\u001b[43m,\u001b[49m\u001b[43m \u001b[49m\u001b[38;5;28;43;01mFalse\u001b[39;49;00m\u001b[43m)\u001b[49m\n",
      "File \u001b[0;32m~/opt/anaconda3/envs/syncasr_stats/lib/python3.9/site-packages/sync_asr/ctm_edit.py:67\u001b[0m, in \u001b[0;36mCTMEditLine.from_list\u001b[0;34m(self, parts, kaldi_list)\u001b[0m\n\u001b[1;32m     65\u001b[0m \u001b[38;5;28;01melse\u001b[39;00m:\n\u001b[1;32m     66\u001b[0m     \u001b[38;5;28mself\u001b[39m\u001b[38;5;241m.\u001b[39mconfidence \u001b[38;5;241m=\u001b[39m \u001b[38;5;28mfloat\u001b[39m(parts[\u001b[38;5;241m5\u001b[39m])\n\u001b[0;32m---> 67\u001b[0m \u001b[38;5;28mself\u001b[39m\u001b[38;5;241m.\u001b[39mref \u001b[38;5;241m=\u001b[39m \u001b[43mparts\u001b[49m\u001b[43m[\u001b[49m\u001b[38;5;241;43m6\u001b[39;49m\u001b[43m]\u001b[49m\n\u001b[1;32m     68\u001b[0m \u001b[38;5;28;01mif\u001b[39;00m parts[\u001b[38;5;241m7\u001b[39m] \u001b[38;5;129;01min\u001b[39;00m EDITS:\n\u001b[1;32m     69\u001b[0m     \u001b[38;5;28mself\u001b[39m\u001b[38;5;241m.\u001b[39medit \u001b[38;5;241m=\u001b[39m parts[\u001b[38;5;241m7\u001b[39m]\n",
      "\u001b[0;31mKeyboardInterrupt\u001b[0m: "
     ]
    }
   ],
   "source": [
    "for file in WD.glob(\"H*\"):\n",
    "    lines = ctm_from_file(file)\n",
    "    for line in lines:\n",
    "        pass"
   ]
  }
 ],
 "metadata": {
  "kernelspec": {
   "display_name": "syncasr_stats",
   "language": "python",
   "name": "python3"
  },
  "language_info": {
   "codemirror_mode": {
    "name": "ipython",
    "version": 3
   },
   "file_extension": ".py",
   "mimetype": "text/x-python",
   "name": "python",
   "nbconvert_exporter": "python",
   "pygments_lexer": "ipython3",
   "version": "3.9.16"
  }
 },
 "nbformat": 4,
 "nbformat_minor": 2
}
