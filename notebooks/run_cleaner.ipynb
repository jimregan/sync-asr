{
 "cells": [
  {
   "cell_type": "code",
   "execution_count": 1,
   "metadata": {},
   "outputs": [],
   "source": [
    "MYDIR = \"/Users/joregan/Playing/rd_ctm_edit\""
   ]
  },
  {
   "cell_type": "code",
   "execution_count": 2,
   "metadata": {},
   "outputs": [],
   "source": [
    "from pathlib import Path"
   ]
  },
  {
   "cell_type": "code",
   "execution_count": 3,
   "metadata": {},
   "outputs": [],
   "source": [
    "WD = Path(MYDIR)"
   ]
  },
  {
   "cell_type": "code",
   "execution_count": 4,
   "metadata": {},
   "outputs": [],
   "source": [
    "from sync_asr.ctm_edit import ctm_from_file"
   ]
  },
  {
   "cell_type": "code",
   "execution_count": 10,
   "metadata": {},
   "outputs": [],
   "source": [
    "from sync_asr.riksdag.corrections import _CORRECTIONS"
   ]
  },
  {
   "cell_type": "code",
   "execution_count": 11,
   "metadata": {},
   "outputs": [],
   "source": [
    "def get_corrections():\n",
    "    corrections = {}\n",
    "    for line in _CORRECTIONS.split(\"\\n\"):\n",
    "        if line == \"\":\n",
    "            continue\n",
    "        parts = line.split()\n",
    "        if not parts[0] in corrections:\n",
    "            corrections[parts[0]] = []\n",
    "        corrections[parts[0]].append(parts[1])\n",
    "    return corrections"
   ]
  },
  {
   "cell_type": "code",
   "execution_count": 12,
   "metadata": {},
   "outputs": [],
   "source": [
    "corrections = get_corrections()"
   ]
  },
  {
   "cell_type": "code",
   "execution_count": 16,
   "metadata": {},
   "outputs": [],
   "source": [
    "from string import punctuation\n",
    "\n",
    "def clean_text(work_ref):\n",
    "    PUNCT = set(punctuation)\n",
    "    i = 0\n",
    "    while work_ref[i] in PUNCT:\n",
    "        i += 1\n",
    "    j = -1\n",
    "    while work_ref[j] in PUNCT:\n",
    "        j -= 1\n",
    "    return work_ref[i:j+1]\n",
    "\n",
    "def compare_text(a, b, lc=False):\n",
    "    word = clean_text(b)\n",
    "    if a == word:\n",
    "        return True\n",
    "    if lc and a == word.lower():\n",
    "        return True\n",
    "    return False\n"
   ]
  },
  {
   "cell_type": "code",
   "execution_count": 17,
   "metadata": {},
   "outputs": [],
   "source": [
    "PREFIXES = [\n",
    "    (\"eu\", \"EU-\"),\n",
    "    (\"aendete\", \"ANDT-\"),\n",
    "    (\"rut\", \"RUT-\"),\n",
    "    (\"aendetess\", \"ANDTS-\"),\n",
    "    (\"aett\", \"A1-\"),\n",
    "    (\"adeärr\", \"ADR-\"),\n",
    "    (\"abieff\", \"ABF-\"),\n",
    "    (\"abebé\", \"ABB-\"),\n",
    "    (\"abe\", \"A/B-\")\n",
    "]"
   ]
  },
  {
   "cell_type": "code",
   "execution_count": 22,
   "metadata": {},
   "outputs": [
    {
     "data": {
      "text/plain": [
       "True"
      ]
     },
     "execution_count": 22,
     "metadata": {},
     "output_type": "execute_result"
    }
   ],
   "source": [
    "a = \"abebégymnasiet\"\n",
    "b = \"ABB-gymnasiet\"\n",
    "p_a = \"abebé\"\n",
    "p_b = \"ABB-\"\n",
    "a.startswith(p_a) and b.startswith(p_b)\n",
    "a[len(p_a):] == b[len(p_b):]"
   ]
  },
  {
   "cell_type": "code",
   "execution_count": 23,
   "metadata": {},
   "outputs": [],
   "source": [
    "def checker(a, b):\n",
    "    if compare_text(a, b, True):\n",
    "        return True\n",
    "    word = clean_text(b)\n",
    "    if a in corrections and word in corrections[a]:\n",
    "        return True\n",
    "    if a in corrections and word.lower() in corrections[a]:\n",
    "        return True\n",
    "    for pfx in PREFIXES:\n",
    "        if a.startswith(pfx[0]) and b.startswith(pfx[1]):\n",
    "            return a[len(pfx[0]):] == b[len(pfx[1]):]\n",
    "    return False"
   ]
  },
  {
   "cell_type": "code",
   "execution_count": 8,
   "metadata": {},
   "outputs": [
    {
     "ename": "KeyboardInterrupt",
     "evalue": "",
     "output_type": "error",
     "traceback": [
      "\u001b[0;31m---------------------------------------------------------------------------\u001b[0m",
      "\u001b[0;31mKeyboardInterrupt\u001b[0m                         Traceback (most recent call last)",
      "Cell \u001b[0;32mIn[8], line 2\u001b[0m\n\u001b[1;32m      1\u001b[0m \u001b[38;5;28;01mfor\u001b[39;00m file \u001b[38;5;129;01min\u001b[39;00m WD\u001b[38;5;241m.\u001b[39mglob(\u001b[38;5;124m\"\u001b[39m\u001b[38;5;124mH*\u001b[39m\u001b[38;5;124m\"\u001b[39m):\n\u001b[0;32m----> 2\u001b[0m     lines \u001b[38;5;241m=\u001b[39m \u001b[43mctm_from_file\u001b[49m\u001b[43m(\u001b[49m\u001b[43mfile\u001b[49m\u001b[43m)\u001b[49m\n\u001b[1;32m      3\u001b[0m     \u001b[38;5;28;01mfor\u001b[39;00m line \u001b[38;5;129;01min\u001b[39;00m lines:\n\u001b[1;32m      4\u001b[0m         \u001b[38;5;28;01mpass\u001b[39;00m\n",
      "File \u001b[0;32m~/opt/anaconda3/envs/syncasr_stats/lib/python3.9/site-packages/sync_asr/ctm_edit.py:148\u001b[0m, in \u001b[0;36mctm_from_file\u001b[0;34m(filename)\u001b[0m\n\u001b[1;32m    146\u001b[0m \u001b[38;5;28;01mwith\u001b[39;00m \u001b[38;5;28mopen\u001b[39m(filename) \u001b[38;5;28;01mas\u001b[39;00m \u001b[38;5;28minput\u001b[39m:\n\u001b[1;32m    147\u001b[0m     \u001b[38;5;28;01mfor\u001b[39;00m line \u001b[38;5;129;01min\u001b[39;00m \u001b[38;5;28minput\u001b[39m\u001b[38;5;241m.\u001b[39mreadlines():\n\u001b[0;32m--> 148\u001b[0m         ctm_lines\u001b[38;5;241m.\u001b[39mappend(\u001b[43mCTMEditLine\u001b[49m\u001b[43m(\u001b[49m\u001b[43mline\u001b[49m\u001b[38;5;241;43m.\u001b[39;49m\u001b[43mstrip\u001b[49m\u001b[43m(\u001b[49m\u001b[43m)\u001b[49m\u001b[43m)\u001b[49m)\n\u001b[1;32m    149\u001b[0m \u001b[38;5;28;01mreturn\u001b[39;00m ctm_lines\n",
      "File \u001b[0;32m~/opt/anaconda3/envs/syncasr_stats/lib/python3.9/site-packages/sync_asr/ctm_edit.py:22\u001b[0m, in \u001b[0;36mCTMEditLine.__init__\u001b[0;34m(self, from_line, from_kaldi_list, verbose)\u001b[0m\n\u001b[1;32m     20\u001b[0m \u001b[38;5;28;01mdef\u001b[39;00m \u001b[38;5;21m__init__\u001b[39m(\u001b[38;5;28mself\u001b[39m, from_line\u001b[38;5;241m=\u001b[39m\u001b[38;5;124m\"\u001b[39m\u001b[38;5;124m\"\u001b[39m, from_kaldi_list\u001b[38;5;241m=\u001b[39m\u001b[38;5;28;01mNone\u001b[39;00m, verbose\u001b[38;5;241m=\u001b[39m\u001b[38;5;28;01mFalse\u001b[39;00m):\n\u001b[1;32m     21\u001b[0m     \u001b[38;5;28;01mif\u001b[39;00m from_line \u001b[38;5;241m!=\u001b[39m \u001b[38;5;124m\"\u001b[39m\u001b[38;5;124m\"\u001b[39m:\n\u001b[0;32m---> 22\u001b[0m         \u001b[38;5;28;43mself\u001b[39;49m\u001b[38;5;241;43m.\u001b[39;49m\u001b[43mfrom_line\u001b[49m\u001b[43m(\u001b[49m\u001b[43mfrom_line\u001b[49m\u001b[43m)\u001b[49m\n\u001b[1;32m     23\u001b[0m     \u001b[38;5;28;01melif\u001b[39;00m from_kaldi_list \u001b[38;5;129;01mis\u001b[39;00m \u001b[38;5;129;01mnot\u001b[39;00m \u001b[38;5;28;01mNone\u001b[39;00m:\n\u001b[1;32m     24\u001b[0m         \u001b[38;5;28mself\u001b[39m\u001b[38;5;241m.\u001b[39mfrom_list(from_kaldi_list, \u001b[38;5;28;01mTrue\u001b[39;00m)\n",
      "File \u001b[0;32m~/opt/anaconda3/envs/syncasr_stats/lib/python3.9/site-packages/sync_asr/ctm_edit.py:49\u001b[0m, in \u001b[0;36mCTMEditLine.from_line\u001b[0;34m(self, text)\u001b[0m\n\u001b[1;32m     46\u001b[0m \u001b[38;5;28;01mdef\u001b[39;00m \u001b[38;5;21mfrom_line\u001b[39m(\u001b[38;5;28mself\u001b[39m, text: \u001b[38;5;28mstr\u001b[39m):\n\u001b[1;32m     47\u001b[0m     \u001b[38;5;66;03m# AJJacobs_2007P-0001605-0003029 1 0 0.09 <eps> 1.0 <eps> sil tainted\u001b[39;00m\n\u001b[1;32m     48\u001b[0m     parts \u001b[38;5;241m=\u001b[39m text\u001b[38;5;241m.\u001b[39mstrip()\u001b[38;5;241m.\u001b[39msplit()\n\u001b[0;32m---> 49\u001b[0m     \u001b[38;5;28;43mself\u001b[39;49m\u001b[38;5;241;43m.\u001b[39;49m\u001b[43mfrom_list\u001b[49m\u001b[43m(\u001b[49m\u001b[43mparts\u001b[49m\u001b[43m,\u001b[49m\u001b[43m \u001b[49m\u001b[38;5;28;43;01mFalse\u001b[39;49;00m\u001b[43m)\u001b[49m\n",
      "File \u001b[0;32m~/opt/anaconda3/envs/syncasr_stats/lib/python3.9/site-packages/sync_asr/ctm_edit.py:67\u001b[0m, in \u001b[0;36mCTMEditLine.from_list\u001b[0;34m(self, parts, kaldi_list)\u001b[0m\n\u001b[1;32m     65\u001b[0m \u001b[38;5;28;01melse\u001b[39;00m:\n\u001b[1;32m     66\u001b[0m     \u001b[38;5;28mself\u001b[39m\u001b[38;5;241m.\u001b[39mconfidence \u001b[38;5;241m=\u001b[39m \u001b[38;5;28mfloat\u001b[39m(parts[\u001b[38;5;241m5\u001b[39m])\n\u001b[0;32m---> 67\u001b[0m \u001b[38;5;28mself\u001b[39m\u001b[38;5;241m.\u001b[39mref \u001b[38;5;241m=\u001b[39m \u001b[43mparts\u001b[49m\u001b[43m[\u001b[49m\u001b[38;5;241;43m6\u001b[39;49m\u001b[43m]\u001b[49m\n\u001b[1;32m     68\u001b[0m \u001b[38;5;28;01mif\u001b[39;00m parts[\u001b[38;5;241m7\u001b[39m] \u001b[38;5;129;01min\u001b[39;00m EDITS:\n\u001b[1;32m     69\u001b[0m     \u001b[38;5;28mself\u001b[39m\u001b[38;5;241m.\u001b[39medit \u001b[38;5;241m=\u001b[39m parts[\u001b[38;5;241m7\u001b[39m]\n",
      "\u001b[0;31mKeyboardInterrupt\u001b[0m: "
     ]
    }
   ],
   "source": [
    "for file in WD.glob(\"H*\"):\n",
    "    lines = ctm_from_file(file)\n",
    "    for line in lines:\n",
    "        pass"
   ]
  }
 ],
 "metadata": {
  "kernelspec": {
   "display_name": "syncasr_stats",
   "language": "python",
   "name": "python3"
  },
  "language_info": {
   "codemirror_mode": {
    "name": "ipython",
    "version": 3
   },
   "file_extension": ".py",
   "mimetype": "text/x-python",
   "name": "python",
   "nbconvert_exporter": "python",
   "pygments_lexer": "ipython3",
   "version": "3.9.16"
  }
 },
 "nbformat": 4,
 "nbformat_minor": 2
}
