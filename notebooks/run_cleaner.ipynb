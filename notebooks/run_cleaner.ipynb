{
 "cells": [
  {
   "cell_type": "code",
   "execution_count": 22,
   "metadata": {},
   "outputs": [
    {
     "data": {
      "text/plain": [
       "True"
      ]
     },
     "execution_count": 22,
     "metadata": {},
     "output_type": "execute_result"
    }
   ],
   "source": [
    "a = \"abebégymnasiet\"\n",
    "b = \"ABB-gymnasiet\"\n",
    "p_a = \"abebé\"\n",
    "p_b = \"ABB-\"\n",
    "a.startswith(p_a) and b.startswith(p_b)\n",
    "a[len(p_a):] == b[len(p_b):]"
   ]
  },
  {
   "cell_type": "code",
   "execution_count": 10,
   "metadata": {},
   "outputs": [],
   "source": [
    "from pathlib import Path\n",
    "\n",
    "BASEOUT = Path(\"/Users/joregan/rd_ctm_edit/riksdag_spoken_sentences\")\n",
    "CLEANDIR = BASEOUT / \"clean\"\n",
    "NOISYDIR = BASEOUT / \"noisy\"\n"
   ]
  },
  {
   "cell_type": "code",
   "execution_count": 46,
   "metadata": {},
   "outputs": [],
   "source": [
    "LINES = \"\"\"\n",
    "2442207130019430621 1 327.74 0.459 Ytterst 1.0 Ytterst cor\n",
    "2442207130019430621 1 328.3 0.3 handlar 1.0 handlar cor\n",
    "2442207130019430621 1 328.66 0.06 den 1.0 den cor\n",
    "2442207130019430621 1 328.78 0.08 här 1.0 här cor\n",
    "2442207130019430621 1 328.92 0.379 frågan 1.0 frågan cor\n",
    "2442207130019430621 1 330.32 0.079 om 1.0 om cor\n",
    "2442207130019430621 1 330.5 0.1 att 1.0 att cor\n",
    "2442207130019430621 1 330.66 0.5 regeringen 1.0 regeringen cor\n",
    "2442207130019430621 1 331.38 0.42 inte 1.0 inte cor\n",
    "2442207130019430621 1 331.9 0.18 har 1.0 har cor\n",
    "2442207130019430621 1 332.2 0.699 parlamentariskt 1.0 parlamentariskt cor\n",
    "2442207130019430621 1 332.94 0.339 stöd 1.0 stöd cor\n",
    "2442207130019430621 1 334.06 0.1 för 1.0 för cor\n",
    "2442207130019430621 1 334.2 0.18 sitt 1.0 sitt cor\n",
    "2442207130019430621 1 334.42 0.419 förslag 1.0 förslag cor\n",
    "2442207130019430621 1 334.94 0.12 att 1.0 att cor\n",
    "2442207130019430621 1 335.1 0.299 låna 1.0 låna cor\n",
    "2442207130019430621 1 335.64 0.139 till 1.0 till cor\n",
    "2442207130019430621 1 335.82 0.879 skattesänkningar 1.0 skattesänkningar cor\n",
    "2442207130019430621 1 337.16 0.079 för 1.0 för cor\n",
    "2442207130019430621 1 337.3 0.099 dem 1.0 dem cor\n",
    "2442207130019430621 1 337.5 0.079 som 1.0 som cor\n",
    "2442207130019430621 1 337.7 0.319 tjänar 1.0 tjänar cor\n",
    "2442207130019430621 1 338.14 0.3 mest 1.0 mest cor\n",
    "2442207130019430621 1 338.58 0.02 i 1.0 i cor\n",
    "2442207130019430621 1 338.66 0.139 vårt 1.0 vårt cor\n",
    "2442207130019430621 1 338.84 0.16 land 1.0 <eps> ins\n",
    "2442207130019430621 1 339.84 0.08 jag 1.0 <eps> ins\n",
    "2442207130019430621 1 340.0 0.259 yrkar 1.0 land. sub\n",
    "\"\"\""
   ]
  },
  {
   "cell_type": "code",
   "execution_count": 47,
   "metadata": {},
   "outputs": [],
   "source": [
    "from sync_asr.ctm_edit import CTMEditLine, shift_epsilons, ctm_from_file\n",
    "lines = [CTMEditLine(from_line=x) for x in LINES.split(\"\\n\") if x != \"\"]"
   ]
  }
 ],
 "metadata": {
  "kernelspec": {
   "display_name": "syncasr_stats",
   "language": "python",
   "name": "python3"
  },
  "language_info": {
   "codemirror_mode": {
    "name": "ipython",
    "version": 3
   },
   "file_extension": ".py",
   "mimetype": "text/x-python",
   "name": "python",
   "nbconvert_exporter": "python",
   "pygments_lexer": "ipython3",
   "version": "3.9.16"
  }
 },
 "nbformat": 4,
 "nbformat_minor": 2
}
