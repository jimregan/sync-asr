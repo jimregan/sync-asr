{
 "cells": [
  {
   "cell_type": "code",
   "execution_count": 1,
   "metadata": {},
   "outputs": [],
   "source": [
    "MYDIR = \"/Users/joregan/Playing/rd_ctm_edit\""
   ]
  },
  {
   "cell_type": "code",
   "execution_count": 2,
   "metadata": {},
   "outputs": [],
   "source": [
    "from pathlib import Path"
   ]
  },
  {
   "cell_type": "code",
   "execution_count": 3,
   "metadata": {},
   "outputs": [],
   "source": [
    "WD = Path(MYDIR)"
   ]
  },
  {
   "cell_type": "code",
   "execution_count": 3,
   "metadata": {},
   "outputs": [],
   "source": [
    "from sync_asr.ctm_edit import ctm_from_file"
   ]
  },
  {
   "cell_type": "code",
   "execution_count": 4,
   "metadata": {},
   "outputs": [],
   "source": [
    "from sync_asr.riksdag.corrections import _CORRECTIONS"
   ]
  },
  {
   "cell_type": "code",
   "execution_count": 5,
   "metadata": {},
   "outputs": [],
   "source": [
    "def get_corrections():\n",
    "    corrections = {}\n",
    "    for line in _CORRECTIONS.split(\"\\n\"):\n",
    "        if line == \"\":\n",
    "            continue\n",
    "        parts = line.split()\n",
    "        if not parts[0] in corrections:\n",
    "            corrections[parts[0]] = []\n",
    "        corrections[parts[0]].append(parts[1])\n",
    "    return corrections"
   ]
  },
  {
   "cell_type": "code",
   "execution_count": 6,
   "metadata": {},
   "outputs": [],
   "source": [
    "corrections = get_corrections()"
   ]
  },
  {
   "cell_type": "code",
   "execution_count": 7,
   "metadata": {},
   "outputs": [],
   "source": [
    "from string import punctuation\n",
    "\n",
    "def clean_text(work_ref):\n",
    "    PUNCT = set(punctuation)\n",
    "    i = 0\n",
    "    l = len(work_ref)\n",
    "    while i < l and work_ref[i] in PUNCT:\n",
    "        i += 1\n",
    "    j = -1\n",
    "    while j >= -l and work_ref[j] in PUNCT:\n",
    "        j -= 1\n",
    "    return work_ref[i:j+1]\n",
    "\n",
    "def compare_text(a, b, lc=False):\n",
    "    word = clean_text(b)\n",
    "    if a == word:\n",
    "        return True\n",
    "    if lc and a == word.lower():\n",
    "        return True\n",
    "    return False\n"
   ]
  },
  {
   "cell_type": "code",
   "execution_count": 8,
   "metadata": {},
   "outputs": [],
   "source": [
    "PREFIXES = []\n",
    "with open(\"prefixes.tsv\") as f:\n",
    "    for line in f.readlines():\n",
    "        parts = line.strip().split()\n",
    "        PREFIXES.append((parts[0], f\"{parts[1]}-\"))\n",
    "        if not parts[0] in corrections:\n",
    "            corrections[parts[0]] = []\n",
    "        corrections[parts[0]].append(parts[1])"
   ]
  },
  {
   "cell_type": "code",
   "execution_count": 22,
   "metadata": {},
   "outputs": [
    {
     "data": {
      "text/plain": [
       "True"
      ]
     },
     "execution_count": 22,
     "metadata": {},
     "output_type": "execute_result"
    }
   ],
   "source": [
    "a = \"abebégymnasiet\"\n",
    "b = \"ABB-gymnasiet\"\n",
    "p_a = \"abebé\"\n",
    "p_b = \"ABB-\"\n",
    "a.startswith(p_a) and b.startswith(p_b)\n",
    "a[len(p_a):] == b[len(p_b):]"
   ]
  },
  {
   "cell_type": "code",
   "execution_count": null,
   "metadata": {},
   "outputs": [],
   "source": [
    "PREFIXES"
   ]
  },
  {
   "cell_type": "code",
   "execution_count": 23,
   "metadata": {},
   "outputs": [],
   "source": [
    "def checker(a, b):\n",
    "    if compare_text(a, b, True):\n",
    "        return True\n",
    "    word = clean_text(b)\n",
    "    if a in corrections and word in corrections[a]:\n",
    "        return True\n",
    "    if a in corrections and word.lower() in corrections[a]:\n",
    "        return True\n",
    "    for pfx in PREFIXES:\n",
    "        if a.startswith(pfx[0]) and b.startswith(pfx[1]):\n",
    "            return a[len(pfx[0]):] == b[len(pfx[1]):]\n",
    "    return False"
   ]
  },
  {
   "cell_type": "code",
   "execution_count": 33,
   "metadata": {},
   "outputs": [],
   "source": [
    "for file in WD.glob(\"H201UbU15*\"):\n",
    "    lines = ctm_from_file(file)\n",
    "    for line in lines:\n",
    "        line.mark_correct_from_function(checker)"
   ]
  },
  {
   "cell_type": "code",
   "execution_count": 34,
   "metadata": {},
   "outputs": [],
   "source": [
    "with open(\"/tmp/foozle\", \"w\") as f:\n",
    "    for line in lines:\n",
    "        f.write(str(line) + \"\\n\")"
   ]
  },
  {
   "cell_type": "code",
   "execution_count": 37,
   "metadata": {},
   "outputs": [],
   "source": [
    "pfxes = []\n",
    "with open(\"/tmp/list\") as f:\n",
    "    for line in f.readlines():\n",
    "        parts = line.strip().split(\" \")\n",
    "        a = parts[4]\n",
    "        b = parts[6]\n",
    "        if \"-\" in b:\n",
    "            bits = b.split(\"-\")\n",
    "            if len(bits) == 2:\n",
    "                if a.endswith(bits[1]):\n",
    "                    pfxes.append((a[:-len(bits[1])], bits[0]))"
   ]
  },
  {
   "cell_type": "code",
   "execution_count": 39,
   "metadata": {},
   "outputs": [],
   "source": [
    "pfxes = set(pfxes)"
   ]
  },
  {
   "cell_type": "code",
   "execution_count": 41,
   "metadata": {},
   "outputs": [],
   "source": [
    "pfxes = [x for x in pfxes if x != \"\"]"
   ]
  },
  {
   "cell_type": "code",
   "execution_count": 45,
   "metadata": {},
   "outputs": [],
   "source": [
    "with open(\"/tmp/pfxraw\", \"w\") as f:\n",
    "    for pfx in pfxes:\n",
    "        f.write(f\"{pfx[0]}\\t{pfx[1]}\\n\")"
   ]
  },
  {
   "cell_type": "code",
   "execution_count": 46,
   "metadata": {},
   "outputs": [],
   "source": [
    "LINES = \"\"\"\n",
    "2442207130019430621 1 327.74 0.459 Ytterst 1.0 Ytterst cor\n",
    "2442207130019430621 1 328.3 0.3 handlar 1.0 handlar cor\n",
    "2442207130019430621 1 328.66 0.06 den 1.0 den cor\n",
    "2442207130019430621 1 328.78 0.08 här 1.0 här cor\n",
    "2442207130019430621 1 328.92 0.379 frågan 1.0 frågan cor\n",
    "2442207130019430621 1 330.32 0.079 om 1.0 om cor\n",
    "2442207130019430621 1 330.5 0.1 att 1.0 att cor\n",
    "2442207130019430621 1 330.66 0.5 regeringen 1.0 regeringen cor\n",
    "2442207130019430621 1 331.38 0.42 inte 1.0 inte cor\n",
    "2442207130019430621 1 331.9 0.18 har 1.0 har cor\n",
    "2442207130019430621 1 332.2 0.699 parlamentariskt 1.0 parlamentariskt cor\n",
    "2442207130019430621 1 332.94 0.339 stöd 1.0 stöd cor\n",
    "2442207130019430621 1 334.06 0.1 för 1.0 för cor\n",
    "2442207130019430621 1 334.2 0.18 sitt 1.0 sitt cor\n",
    "2442207130019430621 1 334.42 0.419 förslag 1.0 förslag cor\n",
    "2442207130019430621 1 334.94 0.12 att 1.0 att cor\n",
    "2442207130019430621 1 335.1 0.299 låna 1.0 låna cor\n",
    "2442207130019430621 1 335.64 0.139 till 1.0 till cor\n",
    "2442207130019430621 1 335.82 0.879 skattesänkningar 1.0 skattesänkningar cor\n",
    "2442207130019430621 1 337.16 0.079 för 1.0 för cor\n",
    "2442207130019430621 1 337.3 0.099 dem 1.0 dem cor\n",
    "2442207130019430621 1 337.5 0.079 som 1.0 som cor\n",
    "2442207130019430621 1 337.7 0.319 tjänar 1.0 tjänar cor\n",
    "2442207130019430621 1 338.14 0.3 mest 1.0 mest cor\n",
    "2442207130019430621 1 338.58 0.02 i 1.0 i cor\n",
    "2442207130019430621 1 338.66 0.139 vårt 1.0 vårt cor\n",
    "2442207130019430621 1 338.84 0.16 land 1.0 <eps> ins\n",
    "2442207130019430621 1 339.84 0.08 jag 1.0 <eps> ins\n",
    "2442207130019430621 1 340.0 0.259 yrkar 1.0 land. sub\n",
    "\"\"\""
   ]
  },
  {
   "cell_type": "code",
   "execution_count": 47,
   "metadata": {},
   "outputs": [],
   "source": [
    "from sync_asr.ctm_edit import CTMEditLine, shift_epsilons, ctm_from_file\n",
    "lines = [CTMEditLine(from_line=x) for x in LINES.split(\"\\n\") if x != \"\"]"
   ]
  },
  {
   "cell_type": "code",
   "execution_count": 50,
   "metadata": {},
   "outputs": [
    {
     "data": {
      "text/plain": [
       "[2442207130019430621 ((327740, 328199)) Ytterst|Ytterst,\n",
       " 2442207130019430621 ((328300, 328600)) handlar|handlar,\n",
       " 2442207130019430621 ((328660, 328720)) den|den,\n",
       " 2442207130019430621 ((328780, 328860)) här|här,\n",
       " 2442207130019430621 ((328920, 329299)) frågan|frågan,\n",
       " 2442207130019430621 ((330320, 330399)) om|om,\n",
       " 2442207130019430621 ((330500, 330600)) att|att,\n",
       " 2442207130019430621 ((330660, 331160)) regeringen|regeringen,\n",
       " 2442207130019430621 ((331380, 331800)) inte|inte,\n",
       " 2442207130019430621 ((331900, 332080)) har|har,\n",
       " 2442207130019430621 ((332200, 332899)) parlamentariskt|parlamentariskt,\n",
       " 2442207130019430621 ((332940, 333279)) stöd|stöd,\n",
       " 2442207130019430621 ((334060, 334160)) för|för,\n",
       " 2442207130019430621 ((334200, 334380)) sitt|sitt,\n",
       " 2442207130019430621 ((334420, 334839)) förslag|förslag,\n",
       " 2442207130019430621 ((334940, 335060)) att|att,\n",
       " 2442207130019430621 ((335100, 335399)) låna|låna,\n",
       " 2442207130019430621 ((335640, 335779)) till|till,\n",
       " 2442207130019430621 ((335820, 336699)) skattesänkningar|skattesänkningar,\n",
       " 2442207130019430621 ((337160, 337239)) för|för,\n",
       " 2442207130019430621 ((337300, 337399)) dem|dem,\n",
       " 2442207130019430621 ((337500, 337579)) som|som,\n",
       " 2442207130019430621 ((337700, 338019)) tjänar|tjänar,\n",
       " 2442207130019430621 ((338140, 338440)) mest|mest,\n",
       " 2442207130019430621 ((338580, 338600)) i|i,\n",
       " 2442207130019430621 ((338660, 338799)) vårt|vårt,\n",
       " 2442207130019430621 ((338840, 339000)) land.|land.,\n",
       " 2442207130019430621 ((339840, 339920)) jag|<eps>,\n",
       " 2442207130019430621 ((340000, 340259)) yrkar|<eps>]"
      ]
     },
     "execution_count": 50,
     "metadata": {},
     "output_type": "execute_result"
    }
   ],
   "source": [
    "from sync_asr.riksdag.riksdag_align import rd_equals\n",
    "\n",
    "shift_epsilons(lines, rd_equals)"
   ]
  }
 ],
 "metadata": {
  "kernelspec": {
   "display_name": "syncasr_stats",
   "language": "python",
   "name": "python3"
  },
  "language_info": {
   "codemirror_mode": {
    "name": "ipython",
    "version": 3
   },
   "file_extension": ".py",
   "mimetype": "text/x-python",
   "name": "python",
   "nbconvert_exporter": "python",
   "pygments_lexer": "ipython3",
   "version": "3.9.16"
  }
 },
 "nbformat": 4,
 "nbformat_minor": 2
}
