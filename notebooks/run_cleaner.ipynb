{
 "cells": [
  {
   "cell_type": "code",
   "execution_count": 1,
   "metadata": {},
   "outputs": [],
   "source": [
    "MYDIR = \"/Users/joregan/Playing/rd_ctm_edit\""
   ]
  },
  {
   "cell_type": "code",
   "execution_count": 2,
   "metadata": {},
   "outputs": [],
   "source": [
    "from pathlib import Path"
   ]
  },
  {
   "cell_type": "code",
   "execution_count": 3,
   "metadata": {},
   "outputs": [],
   "source": [
    "WD = Path(MYDIR)"
   ]
  },
  {
   "cell_type": "code",
   "execution_count": 4,
   "metadata": {},
   "outputs": [],
   "source": [
    "from sync_asr.ctm_edit import ctm_from_file"
   ]
  },
  {
   "cell_type": "code",
   "execution_count": 10,
   "metadata": {},
   "outputs": [],
   "source": [
    "from sync_asr.riksdag.corrections import _CORRECTIONS"
   ]
  },
  {
   "cell_type": "code",
   "execution_count": 11,
   "metadata": {},
   "outputs": [],
   "source": [
    "def get_corrections():\n",
    "    corrections = {}\n",
    "    for line in _CORRECTIONS.split(\"\\n\"):\n",
    "        if line == \"\":\n",
    "            continue\n",
    "        parts = line.split()\n",
    "        if not parts[0] in corrections:\n",
    "            corrections[parts[0]] = []\n",
    "        corrections[parts[0]].append(parts[1])\n",
    "    return corrections"
   ]
  },
  {
   "cell_type": "code",
   "execution_count": 12,
   "metadata": {},
   "outputs": [],
   "source": [
    "corrections = get_corrections()"
   ]
  },
  {
   "cell_type": "code",
   "execution_count": 27,
   "metadata": {},
   "outputs": [],
   "source": [
    "from string import punctuation\n",
    "\n",
    "def clean_text(work_ref):\n",
    "    PUNCT = set(punctuation)\n",
    "    i = 0\n",
    "    l = len(work_ref)\n",
    "    while i < l and work_ref[i] in PUNCT:\n",
    "        i += 1\n",
    "    j = -1\n",
    "    while j >= -l and work_ref[j] in PUNCT:\n",
    "        j -= 1\n",
    "    return work_ref[i:j+1]\n",
    "\n",
    "def compare_text(a, b, lc=False):\n",
    "    word = clean_text(b)\n",
    "    if a == word:\n",
    "        return True\n",
    "    if lc and a == word.lower():\n",
    "        return True\n",
    "    return False\n"
   ]
  },
  {
   "cell_type": "code",
   "execution_count": 17,
   "metadata": {},
   "outputs": [],
   "source": [
    "PREFIXES = [\n",
    "    (\"eu\", \"EU-\"),\n",
    "    (\"aendete\", \"ANDT-\"),\n",
    "    (\"rut\", \"RUT-\"),\n",
    "    (\"aendetess\", \"ANDTS-\"),\n",
    "    (\"aett\", \"A1-\"),\n",
    "    (\"adeärr\", \"ADR-\"),\n",
    "    (\"abieff\", \"ABF-\"),\n",
    "    (\"abebé\", \"ABB-\"),\n",
    "    (\"abe\", \"A/B-\"),\n",
    "    (\"hovebe\", \"HVB-\"),\n",
    "    (\"hovebé\", \"HVB-\"),\n",
    "    (\"mu\", \"MU-\"),\n",
    "    (\"ällo\", \"LO-\"),\n",
    "    (\"pisa\", \"PISA-\"),\n",
    "    (\"effen\", \"FN-\"),\n",
    "    (\"jeffen\", \"FN-\"),\n",
    "    (\"äffen\", \"FN-\"),\n",
    "    (\"sab\", \"SAAB-\"),\n",
    "    (\"kex\", \"KEX-\"),\n",
    "    (\"icise\", \"ICC-\"),\n",
    "]"
   ]
  },
  {
   "cell_type": "code",
   "execution_count": 22,
   "metadata": {},
   "outputs": [
    {
     "data": {
      "text/plain": [
       "True"
      ]
     },
     "execution_count": 22,
     "metadata": {},
     "output_type": "execute_result"
    }
   ],
   "source": [
    "a = \"abebégymnasiet\"\n",
    "b = \"ABB-gymnasiet\"\n",
    "p_a = \"abebé\"\n",
    "p_b = \"ABB-\"\n",
    "a.startswith(p_a) and b.startswith(p_b)\n",
    "a[len(p_a):] == b[len(p_b):]"
   ]
  },
  {
   "cell_type": "code",
   "execution_count": 23,
   "metadata": {},
   "outputs": [],
   "source": [
    "def checker(a, b):\n",
    "    if compare_text(a, b, True):\n",
    "        return True\n",
    "    word = clean_text(b)\n",
    "    if a in corrections and word in corrections[a]:\n",
    "        return True\n",
    "    if a in corrections and word.lower() in corrections[a]:\n",
    "        return True\n",
    "    for pfx in PREFIXES:\n",
    "        if a.startswith(pfx[0]) and b.startswith(pfx[1]):\n",
    "            return a[len(pfx[0]):] == b[len(pfx[1]):]\n",
    "    return False"
   ]
  },
  {
   "cell_type": "code",
   "execution_count": 33,
   "metadata": {},
   "outputs": [],
   "source": [
    "for file in WD.glob(\"H201UbU15*\"):\n",
    "    lines = ctm_from_file(file)\n",
    "    for line in lines:\n",
    "        line.mark_correct_from_function(checker)"
   ]
  },
  {
   "cell_type": "code",
   "execution_count": 34,
   "metadata": {},
   "outputs": [],
   "source": [
    "with open(\"/tmp/foozle\", \"w\") as f:\n",
    "    for line in lines:\n",
    "        f.write(str(line) + \"\\n\")"
   ]
  }
 ],
 "metadata": {
  "kernelspec": {
   "display_name": "syncasr_stats",
   "language": "python",
   "name": "python3"
  },
  "language_info": {
   "codemirror_mode": {
    "name": "ipython",
    "version": 3
   },
   "file_extension": ".py",
   "mimetype": "text/x-python",
   "name": "python",
   "nbconvert_exporter": "python",
   "pygments_lexer": "ipython3",
   "version": "3.9.16"
  }
 },
 "nbformat": 4,
 "nbformat_minor": 2
}
