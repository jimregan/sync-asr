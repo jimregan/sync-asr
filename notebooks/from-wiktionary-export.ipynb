{
 "cells": [
  {
   "cell_type": "code",
   "execution_count": 2,
   "metadata": {},
   "outputs": [],
   "source": [
    "%%capture\n",
    "%pip install wikitextparser"
   ]
  },
  {
   "cell_type": "code",
   "execution_count": 3,
   "metadata": {},
   "outputs": [],
   "source": [
    "from lxml import etree\n"
   ]
  },
  {
   "cell_type": "code",
   "execution_count": 62,
   "metadata": {},
   "outputs": [],
   "source": [
    "FILE=\"/home/joregan/Wiktionary-20240325112506.xml\"\n",
    "parser = etree.XMLParser(remove_blank_text=True)\n",
    "tree = etree.parse(FILE, parser)\n",
    "root = tree.getroot()"
   ]
  },
  {
   "cell_type": "code",
   "execution_count": 60,
   "metadata": {},
   "outputs": [],
   "source": [
    "NS = '{http://www.mediawiki.org/xml/export-0.10/}'\n",
    "PAGENS = '{http://www.mediawiki.org/xml/export-0.10/}page'"
   ]
  },
  {
   "cell_type": "code",
   "execution_count": 55,
   "metadata": {},
   "outputs": [],
   "source": [
    "def extract_page(page):\n",
    "    title = \"\"\n",
    "    for child in page:\n",
    "        if child.tag == NS + \"title\":\n",
    "            title = child.text.strip()\n",
    "        elif child.tag == NS + \"revision\":\n",
    "            for schild in child:\n",
    "                if schild.tag == NS + \"text\":\n",
    "                    return title, schild.text\n",
    "    "
   ]
  },
  {
   "cell_type": "code",
   "execution_count": 63,
   "metadata": {},
   "outputs": [],
   "source": [
    "pages = []\n",
    "for page in root.findall(PAGENS):\n",
    "    pages.append(extract_page(page))"
   ]
  },
  {
   "cell_type": "code",
   "execution_count": 64,
   "metadata": {},
   "outputs": [
    {
     "data": {
      "text/plain": [
       "5000"
      ]
     },
     "execution_count": 64,
     "metadata": {},
     "output_type": "execute_result"
    }
   ],
   "source": [
    "len(pages)"
   ]
  },
  {
   "cell_type": "code",
   "execution_count": 12,
   "metadata": {},
   "outputs": [],
   "source": [
    "import wikitextparser as wtp\n"
   ]
  },
  {
   "cell_type": "code",
   "execution_count": 13,
   "metadata": {},
   "outputs": [],
   "source": [
    "parsed = wtp.parse(TST)"
   ]
  },
  {
   "cell_type": "code",
   "execution_count": 18,
   "metadata": {},
   "outputs": [
    {
     "data": {
      "text/plain": [
       "[Template('{{alter|ga|spledachus|spleadhachus||obsolete}}'),\n",
       " Template('{{alter|ga|spleadhachas||superseded}}'),\n",
       " Template('{{af|ga|spleách|t1=dependent, subservient; obsequious|-as}}'),\n",
       " Template('{{IPA|ga|/ˈsˠpʲlʲaːxəsˠ/}}'),\n",
       " Template('{{ga-noun|m|spleáchais|-}}'),\n",
       " Template('{{ga-decl-m1-nopl|sp|leáchas|leáchais}}'),\n",
       " Template('{{R:DIL|38643|head=spledachus}}')]"
      ]
     },
     "execution_count": 18,
     "metadata": {},
     "output_type": "execute_result"
    }
   ],
   "source": [
    "parsed.templates"
   ]
  }
 ],
 "metadata": {
  "kernelspec": {
   "display_name": "mfa",
   "language": "python",
   "name": "python3"
  },
  "language_info": {
   "codemirror_mode": {
    "name": "ipython",
    "version": 3
   },
   "file_extension": ".py",
   "mimetype": "text/x-python",
   "name": "python",
   "nbconvert_exporter": "python",
   "pygments_lexer": "ipython3",
   "version": "3.10.12"
  }
 },
 "nbformat": 4,
 "nbformat_minor": 2
}
