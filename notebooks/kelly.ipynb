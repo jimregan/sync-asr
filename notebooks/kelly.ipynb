{
 "cells": [
  {
   "cell_type": "markdown",
   "metadata": {},
   "source": [
    "[Kelly](https://spraakbanken.gu.se/en/resources/kelly)"
   ]
  },
  {
   "cell_type": "code",
   "execution_count": 1,
   "metadata": {},
   "outputs": [],
   "source": [
    "URL = \"https://svn.spraakdata.gu.se/sb-arkiv/pub/lexikon/kelly/kelly.xml\""
   ]
  },
  {
   "cell_type": "code",
   "execution_count": 2,
   "metadata": {},
   "outputs": [],
   "source": [
    "import requests\n",
    "from lxml import etree"
   ]
  },
  {
   "cell_type": "code",
   "execution_count": 3,
   "metadata": {},
   "outputs": [],
   "source": [
    "req = requests.get(URL)"
   ]
  },
  {
   "cell_type": "code",
   "execution_count": 7,
   "metadata": {},
   "outputs": [],
   "source": [
    "root = etree.fromstring(req.content)"
   ]
  },
  {
   "cell_type": "code",
   "execution_count": 14,
   "metadata": {},
   "outputs": [],
   "source": [
    "EXAMPLE = \"\"\"\n",
    "    <LexicalEntry xmlns:karp=\"http://spraakbanken.gu.se/eng/research/infrastructure/karp/karp\">\n",
    "      <Lemma>\n",
    "        <FormRepresentation>\n",
    "          <feat att=\"writtenForm\" val=\"vara\" />\n",
    "          <feat att=\"formInformation\" val=\"(vardagl. va)\" />\n",
    "          <feat att=\"partOfSpeech\" val=\"vb\" />\n",
    "          <feat att=\"kellyPartOfSpeech\" val=\"verb\" />\n",
    "          <feat att=\"kellyID\" val=\"88\" />\n",
    "          <feat att=\"rawFreq\" val=\"2624032\" />\n",
    "          <feat att=\"wpm\" val=\"23017,26\" />\n",
    "          <feat att=\"cefr\" val=\"1\" />\n",
    "          <feat att=\"source\" val=\"SweWaC\" />\n",
    "          <feat att=\"gram\" val=\"att\" />\n",
    "          <feat att=\"example\" val=\"e.g. var så god!\" />\n",
    "        </FormRepresentation>\n",
    "      </Lemma>\n",
    "      <Sense id=\"kelly--vara\">\n",
    "        <feat att=\"saldoSense\" val=\"vara..3\" />\n",
    "        <feat att=\"saldoSense\" val=\"vara..2\" />\n",
    "        <feat att=\"saldoSense\" val=\"vara..1\" />\n",
    "        <feat att=\"saldoSense\" val=\"vara..5\" />\n",
    "      </Sense>\n",
    "      <karp:saldoLink ref=\"vara..3\" />\n",
    "      <karp:saldoLink ref=\"vara..2\" />\n",
    "      <karp:saldoLink ref=\"vara..1\" />\n",
    "      <karp:saldoLink ref=\"vara..5\" />\n",
    "    </LexicalEntry>\n",
    "\"\"\""
   ]
  },
  {
   "cell_type": "code",
   "execution_count": 15,
   "metadata": {},
   "outputs": [],
   "source": [
    "eg = etree.fromstring(EXAMPLE)"
   ]
  },
  {
   "cell_type": "code",
   "execution_count": 21,
   "metadata": {},
   "outputs": [
    {
     "data": {
      "text/plain": [
       "lxml.etree._Element"
      ]
     },
     "execution_count": 21,
     "metadata": {},
     "output_type": "execute_result"
    }
   ],
   "source": [
    "type(eg)"
   ]
  },
  {
   "cell_type": "code",
   "execution_count": null,
   "metadata": {},
   "outputs": [],
   "source": [
    "KELLY_FEATS = [\n",
    "    \"cefr\",\n",
    "    \"example\",\n",
    "    \"formInformation\",\n",
    "    \"gram\",\n",
    "    \"kellyID\",\n",
    "    \"kellyPartOfSpeech\",\n",
    "    \"language\",\n",
    "    \"languageCoding\",\n",
    "    \"partOfSpeech\",\n",
    "    \"rawFreq\",\n",
    "    \"source\",\n",
    "    \"wpm\",\n",
    "    \"writtenForm\"\n",
    "]"
   ]
  },
  {
   "cell_type": "code",
   "execution_count": 50,
   "metadata": {},
   "outputs": [],
   "source": [
    "from lxml.etree import _Element\n",
    "\n",
    "class LexicalEntry():\n",
    "    def __init__(self, data: _Element):\n",
    "        self.formrep = {}\n",
    "        self.senses = {}\n",
    "        self.links = []\n",
    "        self._read(data)\n",
    "\n",
    "    def _read(self, data: _Element):\n",
    "        for child in data:\n",
    "            if child.tag == \"Lemma\":\n",
    "                for schild in child:\n",
    "                    if schild.tag == \"FormRepresentation\":\n",
    "                        for sschild in schild:\n",
    "                            if sschild.tag == \"feat\":\n",
    "                                if sschild.attrib[\"att\"] in KELLY_FEATS:\n",
    "                                    self.formrep[sschild.attrib[\"att\"]] = sschild.attrib[\"val\"]\n",
    "            elif child.tag == \"Sense\":\n",
    "                senseid = child.attrib[\"id\"]\n",
    "                if not senseid in self.senses:\n",
    "                    self.senses[senseid] = []\n",
    "                for schild in child:\n",
    "                    if schild.tag == \"feat\" and schild.attrib[\"att\"] == \"saldoSense\":\n",
    "                        self.senses[senseid].append(schild.attrib[\"val\"])\n",
    "            elif child.tag == \"{http://spraakbanken.gu.se/eng/research/infrastructure/karp/karp}saldoLink\":\n",
    "                self.links.append(child.attrib[\"ref\"])\n",
    "\n",
    "    def get_cefr(self):\n",
    "        cefrmap = {\n",
    "            \"1\": \"A1\",\n",
    "            \"2\": \"A2\",\n",
    "            \"3\": \"B1\",\n",
    "            \"4\": \"B2\",\n",
    "            \"5\": \"C1\",\n",
    "            \"6\": \"C2\",\n",
    "        }\n",
    "        if \"cefr\" in self.formrep:\n",
    "            return cefrmap[self.formrep[\"cefr\"]]\n",
    "    \n",
    "    def get_word(self):\n",
    "        if \"writtenForm\" in self.formrep:\n",
    "            return self.formrep[\"writtenForm\"]\n",
    "        else:\n",
    "            return None\n",
    "    \n",
    "    def get_example(self):\n",
    "        if \"example\" in self.formrep:\n",
    "            return self.formrep[\"example\"]\n",
    "        else:\n",
    "            return None\n",
    "\n",
    "    def get_pos(self):\n",
    "        posmap = {\n",
    "            \"ab\": \"adverb\",\n",
    "            \"av\": \"adjective\",\n",
    "            \"in\": \"interj\",\n",
    "            \"kn\": \"conj\",\n",
    "            \"nl\": \"numeral\",\n",
    "            \"nn\": \"noun\",\n",
    "            \"pm\": \"proper name\",\n",
    "            \"pn\": \"pronoun\",\n",
    "            \"pp\": \"prep\",\n",
    "            \"sn\": \"subj\",\n",
    "            \"vb\": \"verb\",\n",
    "        }\n",
    "        if \"kellyPartOfSpeech\" in self.formrep:\n",
    "            return self.formrep[\"kellyPartOfSpeech\"]\n",
    "        elif \"partOfSpeech\" in self.formrep:\n",
    "            if self.formrep[\"partOfSpeech\"] == \"nn\":\n",
    "                if gram in self.formrep and self.formrep[\"gram\"] in [\"en\", \"ett\"]:\n",
    "                    return f'noun-{self.formrep[\"gram\"]}'\n",
    "                else:\n",
    "                    return \"noun\"\n",
    "            return posmap[self.formrep[\"partOfSpeech\"]]\n",
    "        else:\n",
    "            return None\n",
    "\n",
    "    def get_wpm(self):\n",
    "        if \"wpm\" in self.formrep:\n",
    "            return float(self.formrep[\"wpm\"].replace(\",\", \".\"))\n",
    "        else:\n",
    "            return None"
   ]
  },
  {
   "cell_type": "code",
   "execution_count": 51,
   "metadata": {},
   "outputs": [],
   "source": [
    "le = LexicalEntry(eg)"
   ]
  },
  {
   "cell_type": "code",
   "execution_count": 45,
   "metadata": {},
   "outputs": [
    {
     "data": {
      "text/plain": [
       "'A1'"
      ]
     },
     "execution_count": 45,
     "metadata": {},
     "output_type": "execute_result"
    }
   ],
   "source": [
    "le.get_cefr()"
   ]
  },
  {
   "cell_type": "code",
   "execution_count": 46,
   "metadata": {},
   "outputs": [
    {
     "data": {
      "text/plain": [
       "'vara'"
      ]
     },
     "execution_count": 46,
     "metadata": {},
     "output_type": "execute_result"
    }
   ],
   "source": [
    "le.get_word()"
   ]
  },
  {
   "cell_type": "code",
   "execution_count": 49,
   "metadata": {},
   "outputs": [
    {
     "data": {
      "text/plain": [
       "'verb'"
      ]
     },
     "execution_count": 49,
     "metadata": {},
     "output_type": "execute_result"
    }
   ],
   "source": [
    "le.get_pos()"
   ]
  },
  {
   "cell_type": "code",
   "execution_count": 52,
   "metadata": {},
   "outputs": [
    {
     "data": {
      "text/plain": [
       "23017.26"
      ]
     },
     "execution_count": 52,
     "metadata": {},
     "output_type": "execute_result"
    }
   ],
   "source": [
    "le.get_wpm()"
   ]
  },
  {
   "cell_type": "code",
   "execution_count": 38,
   "metadata": {},
   "outputs": [
    {
     "data": {
      "text/plain": [
       "{'writtenForm': 'vara',\n",
       " 'formInformation': '(vardagl. va)',\n",
       " 'partOfSpeech': 'vb',\n",
       " 'kellyPartOfSpeech': 'verb',\n",
       " 'kellyID': '88',\n",
       " 'rawFreq': '2624032',\n",
       " 'wpm': '23017,26',\n",
       " 'cefr': '1',\n",
       " 'source': 'SweWaC',\n",
       " 'gram': 'att',\n",
       " 'example': 'e.g. var så god!'}"
      ]
     },
     "execution_count": 38,
     "metadata": {},
     "output_type": "execute_result"
    }
   ],
   "source": [
    "le.formrep"
   ]
  }
 ],
 "metadata": {
  "kernelspec": {
   "display_name": "mfa",
   "language": "python",
   "name": "python3"
  },
  "language_info": {
   "codemirror_mode": {
    "name": "ipython",
    "version": 3
   },
   "file_extension": ".py",
   "mimetype": "text/x-python",
   "name": "python",
   "nbconvert_exporter": "python",
   "pygments_lexer": "ipython3",
   "version": "3.10.12"
  }
 },
 "nbformat": 4,
 "nbformat_minor": 2
}
