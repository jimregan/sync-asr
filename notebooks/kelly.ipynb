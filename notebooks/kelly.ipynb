{
 "cells": [
  {
   "cell_type": "markdown",
   "metadata": {},
   "source": [
    "[Kelly](https://spraakbanken.gu.se/en/resources/kelly)"
   ]
  },
  {
   "cell_type": "code",
   "execution_count": 1,
   "metadata": {},
   "outputs": [],
   "source": [
    "URL = \"https://svn.spraakdata.gu.se/sb-arkiv/pub/lexikon/kelly/kelly.xml\""
   ]
  },
  {
   "cell_type": "code",
   "execution_count": 2,
   "metadata": {},
   "outputs": [],
   "source": [
    "import requests\n",
    "from lxml import etree"
   ]
  },
  {
   "cell_type": "code",
   "execution_count": 3,
   "metadata": {},
   "outputs": [],
   "source": [
    "req = requests.get(URL)"
   ]
  },
  {
   "cell_type": "code",
   "execution_count": 7,
   "metadata": {},
   "outputs": [],
   "source": [
    "root = etree.fromstring(req.content)"
   ]
  },
  {
   "cell_type": "code",
   "execution_count": 14,
   "metadata": {},
   "outputs": [],
   "source": [
    "EXAMPLE = \"\"\"\n",
    "    <LexicalEntry xmlns:karp=\"http://spraakbanken.gu.se/eng/research/infrastructure/karp/karp\">\n",
    "      <Lemma>\n",
    "        <FormRepresentation>\n",
    "          <feat att=\"writtenForm\" val=\"vara\" />\n",
    "          <feat att=\"formInformation\" val=\"(vardagl. va)\" />\n",
    "          <feat att=\"partOfSpeech\" val=\"vb\" />\n",
    "          <feat att=\"kellyPartOfSpeech\" val=\"verb\" />\n",
    "          <feat att=\"kellyID\" val=\"88\" />\n",
    "          <feat att=\"rawFreq\" val=\"2624032\" />\n",
    "          <feat att=\"wpm\" val=\"23017,26\" />\n",
    "          <feat att=\"cefr\" val=\"1\" />\n",
    "          <feat att=\"source\" val=\"SweWaC\" />\n",
    "          <feat att=\"gram\" val=\"att\" />\n",
    "          <feat att=\"example\" val=\"e.g. var så god!\" />\n",
    "        </FormRepresentation>\n",
    "      </Lemma>\n",
    "      <Sense id=\"kelly--vara\">\n",
    "        <feat att=\"saldoSense\" val=\"vara..3\" />\n",
    "        <feat att=\"saldoSense\" val=\"vara..2\" />\n",
    "        <feat att=\"saldoSense\" val=\"vara..1\" />\n",
    "        <feat att=\"saldoSense\" val=\"vara..5\" />\n",
    "      </Sense>\n",
    "      <karp:saldoLink ref=\"vara..3\" />\n",
    "      <karp:saldoLink ref=\"vara..2\" />\n",
    "      <karp:saldoLink ref=\"vara..1\" />\n",
    "      <karp:saldoLink ref=\"vara..5\" />\n",
    "    </LexicalEntry>\n",
    "\"\"\""
   ]
  },
  {
   "cell_type": "code",
   "execution_count": 15,
   "metadata": {},
   "outputs": [],
   "source": [
    "eg = etree.fromstring(EXAMPLE)"
   ]
  },
  {
   "cell_type": "code",
   "execution_count": 21,
   "metadata": {},
   "outputs": [
    {
     "data": {
      "text/plain": [
       "lxml.etree._Element"
      ]
     },
     "execution_count": 21,
     "metadata": {},
     "output_type": "execute_result"
    }
   ],
   "source": [
    "type(eg)"
   ]
  },
  {
   "cell_type": "code",
   "execution_count": null,
   "metadata": {},
   "outputs": [],
   "source": [
    "KELLY_FEATS = [\n",
    "    \"cefr\",\n",
    "    \"example\",\n",
    "    \"formInformation\",\n",
    "    \"gram\",\n",
    "    \"kellyID\",\n",
    "    \"kellyPartOfSpeech\",\n",
    "    \"language\",\n",
    "    \"languageCoding\",\n",
    "    \"partOfSpeech\",\n",
    "    \"rawFreq\",\n",
    "    \"source\",\n",
    "    \"wpm\",\n",
    "    \"writtenForm\"\n",
    "]"
   ]
  },
  {
   "cell_type": "code",
   "execution_count": 31,
   "metadata": {},
   "outputs": [],
   "source": [
    "from lxml.etree import _Element\n",
    "\n",
    "class LexicalEntry():\n",
    "    def __init__(self, data: _Element):\n",
    "        self.formrep = {}\n",
    "        self.senses = {}\n",
    "        self.links = []\n",
    "        self._read(data)\n",
    "\n",
    "    def _read(self, data: _Element):\n",
    "        for child in data:\n",
    "            if child.tag == \"Lemma\":\n",
    "                for schild in child:\n",
    "                    if schild.tag == \"FormRepresentation\":\n",
    "                        for sschild in schild:\n",
    "                            if sschild.tag == \"feat\":\n",
    "                                if sschild.attrib[\"att\"] in KELLY_FEATS:\n",
    "                                    self.formrep[sschild.attrib[\"att\"]] = sschild.attrib[\"val\"]\n",
    "            elif child.tag == \"Sense\":\n",
    "                senseid = child.attrib[\"id\"]\n",
    "                if not senseid in self.senses:\n",
    "                    self.senses[senseid] = []\n",
    "                for schild in child:\n",
    "                    if schild.tag == \"feat\" and schild.attrib[\"att\"] == \"saldoSense\":\n",
    "                        self.senses[senseid].append(schild.attrib[\"val\"])\n",
    "            elif child.tag == \"{http://spraakbanken.gu.se/eng/research/infrastructure/karp/karp}saldoLink\":\n",
    "                self.links.append(child.attrib[\"ref\"])\n"
   ]
  },
  {
   "cell_type": "code",
   "execution_count": 19,
   "metadata": {},
   "outputs": [
    {
     "name": "stdout",
     "output_type": "stream",
     "text": [
      "FormRepresentation\n",
      "feat\n",
      "feat\n",
      "feat\n",
      "feat\n",
      "vara..3\n",
      "vara..2\n",
      "vara..1\n",
      "vara..5\n"
     ]
    }
   ],
   "source": [
    "for child in eg:\n",
    "    if child.tag == \"Lemma\":\n",
    "        for schild in child:\n",
    "            print(schild.tag)\n",
    "    elif child.tag == \"Sense\":\n",
    "        for schild in child:\n",
    "            print(schild.tag)\n",
    "    elif child.tag == \"{http://spraakbanken.gu.se/eng/research/infrastructure/karp/karp}saldoLink\":\n",
    "        print(child.attrib[\"ref\"])"
   ]
  },
  {
   "cell_type": "code",
   "execution_count": 33,
   "metadata": {},
   "outputs": [],
   "source": [
    "le = LexicalEntry(eg)"
   ]
  },
  {
   "cell_type": "code",
   "execution_count": 34,
   "metadata": {},
   "outputs": [
    {
     "data": {
      "text/plain": [
       "{'writtenForm': 'vara',\n",
       " 'formInformation': '(vardagl. va)',\n",
       " 'partOfSpeech': 'vb',\n",
       " 'kellyPartOfSpeech': 'verb',\n",
       " 'kellyID': '88',\n",
       " 'rawFreq': '2624032',\n",
       " 'wpm': '23017,26',\n",
       " 'cefr': '1',\n",
       " 'source': 'SweWaC',\n",
       " 'gram': 'att',\n",
       " 'example': 'e.g. var så god!'}"
      ]
     },
     "execution_count": 34,
     "metadata": {},
     "output_type": "execute_result"
    }
   ],
   "source": [
    "le.formrep"
   ]
  },
  {
   "cell_type": "code",
   "execution_count": 18,
   "metadata": {},
   "outputs": [
    {
     "data": {
      "text/plain": [
       "'vara..3'"
      ]
     },
     "execution_count": 18,
     "metadata": {},
     "output_type": "execute_result"
    }
   ],
   "source": [
    "child.attrib[\"ref\"]"
   ]
  },
  {
   "cell_type": "code",
   "execution_count": null,
   "metadata": {},
   "outputs": [],
   "source": [
    "for child in root:\n",
    "    if child.tag == \"LexicalEntry\":\n",
    "        print(child.tag)"
   ]
  }
 ],
 "metadata": {
  "kernelspec": {
   "display_name": "mfa",
   "language": "python",
   "name": "python3"
  },
  "language_info": {
   "codemirror_mode": {
    "name": "ipython",
    "version": 3
   },
   "file_extension": ".py",
   "mimetype": "text/x-python",
   "name": "python",
   "nbconvert_exporter": "python",
   "pygments_lexer": "ipython3",
   "version": "3.10.12"
  }
 },
 "nbformat": 4,
 "nbformat_minor": 2
}
