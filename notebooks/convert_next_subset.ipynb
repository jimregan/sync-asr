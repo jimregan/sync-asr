{
  "cells": [
    {
      "cell_type": "markdown",
      "source": [
        "[![Open In Colab](https://colab.research.google.com/assets/colab-badge.svg)](https://colab.research.google.com/github/jimregan/sync-asr/blob/main/notebooks/convert_next_subset.ipynb)"
      ],
      "metadata": {
        "id": "hOvFQT4SOG--"
      }
    },
    {
      "cell_type": "code",
      "source": [
        "%%capture\n",
        "!pip install git+https://github.com/jimregan/sync-asr"
      ],
      "metadata": {
        "id": "svOAB8zJN4R1"
      },
      "execution_count": null,
      "outputs": []
    },
    {
      "cell_type": "code",
      "source": [
        "try:\n",
        "  import google.colab\n",
        "  IN_COLAB = True\n",
        "except:\n",
        "  IN_COLAB = False"
      ],
      "metadata": {
        "id": "Qc7Xu4fEONpP"
      },
      "execution_count": null,
      "outputs": []
    },
    {
      "cell_type": "code",
      "source": [
        "if IN_COLAB:\n",
        "    JSON_FILE_DIR = \"path/to/files\" #@param {type:\"string\"}\n",
        "else:\n",
        "    JSON_FILE_DIR = \"/Users/joregan/Playing/subset_w2vlm/\""
      ],
      "metadata": {
        "id": "hmiDp43mOSfE"
      },
      "execution_count": null,
      "outputs": []
    },
    {
      "cell_type": "code",
      "execution_count": null,
      "metadata": {
        "id": "JzgjsaOsNwyK"
      },
      "outputs": [],
      "source": [
        "from pathlib import Path\n",
        "\n",
        "JSONPATH = Path(JSON_FILE_DIR)"
      ]
    },
    {
      "cell_type": "code",
      "execution_count": null,
      "metadata": {
        "id": "nKzWgN7aNwyM"
      },
      "outputs": [],
      "source": [
        "from sync_asr.hf_json_input import HuggingFaceJSON"
      ]
    },
    {
      "cell_type": "code",
      "execution_count": null,
      "metadata": {
        "id": "hHkg-birNwyN"
      },
      "outputs": [],
      "source": [
        "def hf_to_ctm(hf, output_file):\n",
        "    with open(output_file, \"w\") as of:\n",
        "        fileid = Path(output_file).stem\n",
        "        for word in hf.words:\n",
        "            start = float(word.start_time / 1000)\n",
        "            end = float(word.end_time / 1000)\n",
        "            duration = end - start\n",
        "            text = word.text.lower()\n",
        "            of.write(f\"{fileid} 1 {start} {duration} {text} 1.0\\n\")"
      ]
    },
    {
      "cell_type": "code",
      "execution_count": null,
      "metadata": {
        "id": "tH9CJOc7NwyN"
      },
      "outputs": [],
      "source": [
        "for jsonfile in JSONPATH.glob(\"*.json\"):\n",
        "    hf = HuggingFaceJSON(filename = str(jsonfile))\n",
        "    ctmout = str(jsonfile).replace(\".json\", \".ctm\")\n",
        "    hf_to_ctm(hf, ctmout)"
      ]
    }
  ],
  "metadata": {
    "kernelspec": {
      "display_name": "Python 3",
      "language": "python",
      "name": "python3"
    },
    "language_info": {
      "codemirror_mode": {
        "name": "ipython",
        "version": 3
      },
      "file_extension": ".py",
      "mimetype": "text/x-python",
      "name": "python",
      "nbconvert_exporter": "python",
      "pygments_lexer": "ipython3",
      "version": "3.9.16"
    },
    "orig_nbformat": 4,
    "vscode": {
      "interpreter": {
        "hash": "a665b5d41d17b532ea9890333293a1b812fa0b73c9c25c950b3cedf1bebd0438"
      }
    },
    "colab": {
      "provenance": []
    }
  },
  "nbformat": 4,
  "nbformat_minor": 0
}