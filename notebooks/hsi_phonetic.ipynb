{
 "cells": [
  {
   "cell_type": "code",
   "execution_count": 1,
   "metadata": {},
   "outputs": [],
   "source": [
    "from pathlib import Path"
   ]
  },
  {
   "cell_type": "code",
   "execution_count": 2,
   "metadata": {},
   "outputs": [],
   "source": [
    "PHON_MODEL = \"jimregan/wav2vec2-xls-r-300m-phoneme-timit\""
   ]
  },
  {
   "cell_type": "code",
   "execution_count": 4,
   "metadata": {},
   "outputs": [],
   "source": [
    "from transformers import pipeline\n",
    "pipe = pipeline(model=PHON_MODEL, device=1)"
   ]
  },
  {
   "cell_type": "code",
   "execution_count": 5,
   "metadata": {},
   "outputs": [],
   "source": [
    "symbols = {\"a\": \"ə\", \"ey\": \"eɪ\", \"aa\": \"ɑ\", \"ae\": \"æ\", \"ah\": \"ə\", \"ao\": \"ɔ\",\n",
    "           \"aw\": \"aʊ\", \"ay\": \"aɪ\", \"ch\": \"ʧ\", \"dh\": \"ð\", \"eh\": \"ɛ\", \"er\": \"ər\",\n",
    "           \"hh\": \"h\", \"ih\": \"ɪ\", \"jh\": \"ʤ\", \"ng\": \"ŋ\",  \"ow\": \"oʊ\", \"oy\": \"ɔɪ\",\n",
    "           \"sh\": \"ʃ\", \"th\": \"θ\", \"uh\": \"ʊ\", \"uw\": \"u\", \"zh\": \"ʒ\", \"iy\": \"i\", \"y\": \"j\"}"
   ]
  },
  {
   "cell_type": "code",
   "execution_count": 6,
   "metadata": {},
   "outputs": [],
   "source": [
    "import json\n",
    "vocab = json.loads(\"\"\"\n",
    "{\"aa\": 1, \"ae\": 2, \"ah\": 3, \"aw\": 4, \"ax\": 5, \"axr\": 6, \"ay\": 7, \"b\": 8, \"ch\": 9, \"d\": 10, \"dh\": 11, \"dx\": 12, \"eh\": 13, \"el\": 14, \"em\": 15, \"en\": 16, \"eng\": 17, \"er\": 18, \"ey\": 19, \"f\": 20, \"g\": 21, \"h#\": 22, \"hh\": 23, \"hv\": 24, \"ih\": 25, \"ix\": 26, \"iy\": 27, \"jh\": 28, \"k\": 29, \"l\": 30, \"m\": 31, \"n\": 32, \"ng\": 33, \"nx\": 34, \"ow\": 35, \"oy\": 36, \"p\": 37, \"q\": 38, \"r\": 39, \"s\": 40, \"sh\": 41, \"t\": 42, \"th\": 43, \"uh\": 44, \"uw\": 45, \"v\": 46, \"w\": 47, \"y\": 48, \"z\": 49, \"zh\": 50, \"|\": 0, \"[UNK]\": 51, \"[PAD]\": 52}\n",
    "\"\"\")"
   ]
  },
  {
   "cell_type": "code",
   "execution_count": 9,
   "metadata": {},
   "outputs": [
    {
     "name": "stdout",
     "output_type": "stream",
     "text": [
      "ax\n",
      "axr\n",
      "b\n",
      "d\n",
      "dx\n",
      "el\n",
      "em\n",
      "en\n",
      "eng\n",
      "f\n",
      "g\n",
      "h#\n",
      "hv\n",
      "ix\n",
      "k\n",
      "l\n",
      "m\n",
      "n\n",
      "nx\n",
      "p\n",
      "q\n",
      "r\n",
      "s\n",
      "t\n",
      "v\n",
      "w\n",
      "z\n",
      "|\n",
      "[UNK]\n",
      "[PAD]\n"
     ]
    }
   ],
   "source": [
    "out = {}\n",
    "for item in vocab.keys():\n",
    "    if not item in symbols:\n",
    "        print(item)\n",
    "    else:\n",
    "        okey = symbols[item]\n",
    "        out[okey] = vocab[item]"
   ]
  },
  {
   "cell_type": "code",
   "execution_count": 11,
   "metadata": {},
   "outputs": [
    {
     "data": {
      "text/plain": [
       "{'ɑ': 1,\n",
       " 'æ': 2,\n",
       " 'ə': 3,\n",
       " 'aʊ': 4,\n",
       " 'aɪ': 7,\n",
       " 'ʧ': 9,\n",
       " 'ð': 11,\n",
       " 'ɛ': 13,\n",
       " 'ər': 18,\n",
       " 'eɪ': 19,\n",
       " 'h': 23,\n",
       " 'ɪ': 25,\n",
       " 'i': 27,\n",
       " 'ʤ': 28,\n",
       " 'ŋ': 33,\n",
       " 'oʊ': 35,\n",
       " 'ɔɪ': 36,\n",
       " 'ʃ': 41,\n",
       " 'θ': 43,\n",
       " 'ʊ': 44,\n",
       " 'u': 45,\n",
       " 'j': 48,\n",
       " 'ʒ': 50}"
      ]
     },
     "execution_count": 11,
     "metadata": {},
     "output_type": "execute_result"
    }
   ],
   "source": [
    "out"
   ]
  }
 ],
 "metadata": {
  "kernelspec": {
   "display_name": "hf_new",
   "language": "python",
   "name": "python3"
  },
  "language_info": {
   "codemirror_mode": {
    "name": "ipython",
    "version": 3
   },
   "file_extension": ".py",
   "mimetype": "text/x-python",
   "name": "python",
   "nbconvert_exporter": "python",
   "pygments_lexer": "ipython3",
   "version": "3.11.5"
  }
 },
 "nbformat": 4,
 "nbformat_minor": 2
}
