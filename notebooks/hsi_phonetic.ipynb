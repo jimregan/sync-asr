{
 "cells": [
  {
   "cell_type": "code",
   "execution_count": 1,
   "metadata": {},
   "outputs": [],
   "source": [
    "from pathlib import Path"
   ]
  },
  {
   "cell_type": "code",
   "execution_count": 2,
   "metadata": {},
   "outputs": [],
   "source": [
    "PHON_MODEL = \"jimregan/wav2vec2-xls-r-300m-phoneme-timit\""
   ]
  },
  {
   "cell_type": "code",
   "execution_count": 4,
   "metadata": {},
   "outputs": [],
   "source": [
    "from transformers import pipeline\n",
    "pipe = pipeline(model=PHON_MODEL, device=1)"
   ]
  },
  {
   "cell_type": "code",
   "execution_count": 16,
   "metadata": {},
   "outputs": [],
   "source": [
    "symbols = {\"ax\": \"ə\", \"ey\": \"eɪ\", \"aa\": \"ɑ\", \"ae\": \"æ\", \"ah\": \"ʌ\", \"ao\": \"ɔː\",\n",
    "           \"aw\": \"aʊ\", \"ay\": \"aɪ\", \"ch\": \"ʧ\", \"dh\": \"ð\", \"eh\": \"ɛ\", \"er\": \"ɚ\",\n",
    "           \"hh\": \"h\", \"ih\": \"ɪ\", \"jh\": \"ʤ\", \"ng\": \"ŋ\",  \"ow\": \"oʊ\", \"oy\": \"ɔɪ\",\n",
    "           \"sh\": \"ʃ\", \"th\": \"θ\", \"uh\": \"ʊ\", \"uw\": \"uː\", \"zh\": \"ʒ\", \"iy\": \"iː\",\n",
    "           \"y\": \"j\", \"r\": \"ɹ\", \"axr\": \"ɝ\", \"el\": \"l̩\", \"em\": \"m̩\", \"en\": \"n̩\",\n",
    "           \"eng\": \"ŋ̩\", \"dx\": \"ɾ\", \"nx\": \"ɾ̃\", \"h#\": \" \", \"hv\": \"h\", \"ix\": \"ɪ\", \"q\": \"\"}\n",
    "symbols.update({x: x for x in \"bdfgklmnpstvwz\"})\n",
    "symbols.update({x: x for x in [\"|\", \"[PAD]\", \"[UNK]\"]})"
   ]
  },
  {
   "cell_type": "code",
   "execution_count": 5,
   "metadata": {},
   "outputs": [],
   "source": [
    "import json\n",
    "vocab = json.loads(\"\"\"\n",
    "{\"aa\": 1, \"ae\": 2, \"ah\": 3, \"aw\": 4, \"ax\": 5, \"axr\": 6, \"ay\": 7, \"b\": 8, \"ch\": 9, \"d\": 10, \"dh\": 11, \"dx\": 12, \"eh\": 13, \"el\": 14, \"em\": 15, \"en\": 16, \"eng\": 17, \"er\": 18, \"ey\": 19, \"f\": 20, \"g\": 21, \"h#\": 22, \"hh\": 23, \"hv\": 24, \"ih\": 25, \"ix\": 26, \"iy\": 27, \"jh\": 28, \"k\": 29, \"l\": 30, \"m\": 31, \"n\": 32, \"ng\": 33, \"nx\": 34, \"ow\": 35, \"oy\": 36, \"p\": 37, \"q\": 38, \"r\": 39, \"s\": 40, \"sh\": 41, \"t\": 42, \"th\": 43, \"uh\": 44, \"uw\": 45, \"v\": 46, \"w\": 47, \"y\": 48, \"z\": 49, \"zh\": 50, \"|\": 0, \"[UNK]\": 51, \"[PAD]\": 52}\n",
    "\"\"\")"
   ]
  },
  {
   "cell_type": "code",
   "execution_count": 17,
   "metadata": {},
   "outputs": [],
   "source": [
    "out = {}\n",
    "for item in vocab.keys():\n",
    "    if not item in symbols:\n",
    "        print(item)\n",
    "    else:\n",
    "        okey = symbols[item]\n",
    "        out[okey] = vocab[item]"
   ]
  },
  {
   "cell_type": "code",
   "execution_count": 19,
   "metadata": {},
   "outputs": [],
   "source": [
    "import json\n",
    "with open(\"/tmp/vocab.json\", \"w\") as outf:\n",
    "    json.dump(out, outf)"
   ]
  }
 ],
 "metadata": {
  "kernelspec": {
   "display_name": "hf_new",
   "language": "python",
   "name": "python3"
  },
  "language_info": {
   "codemirror_mode": {
    "name": "ipython",
    "version": 3
   },
   "file_extension": ".py",
   "mimetype": "text/x-python",
   "name": "python",
   "nbconvert_exporter": "python",
   "pygments_lexer": "ipython3",
   "version": "3.11.5"
  }
 },
 "nbformat": 4,
 "nbformat_minor": 2
}
